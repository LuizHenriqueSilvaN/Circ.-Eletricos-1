{
 "cells": [
  {
   "cell_type": "markdown",
   "metadata": {},
   "source": [
    "# Questão 2"
   ]
  },
  {
   "cell_type": "code",
   "execution_count": 90,
   "metadata": {},
   "outputs": [],
   "source": [
    "import sympy as sp\n",
    "import numpy as np\n",
    "from sympy import *\n",
    "from utils import symdisp, symplot, round_expr\n"
   ]
  },
  {
   "cell_type": "code",
   "execution_count": 91,
   "metadata": {},
   "outputs": [
    {
     "data": {
      "text/latex": [
       "$\\displaystyle v = 2\\;V$"
      ],
      "text/plain": [
       "<IPython.core.display.Math object>"
      ]
     },
     "metadata": {},
     "output_type": "display_data"
    },
    {
     "data": {
      "text/latex": [
       "$\\displaystyle i = 1\\;A$"
      ],
      "text/plain": [
       "<IPython.core.display.Math object>"
      ]
     },
     "metadata": {},
     "output_type": "display_data"
    },
    {
     "data": {
      "text/latex": [
       "$\\displaystyle L = 2\\;H$"
      ],
      "text/plain": [
       "<IPython.core.display.Math object>"
      ]
     },
     "metadata": {},
     "output_type": "display_data"
    },
    {
     "data": {
      "text/latex": [
       "$\\displaystyle C = 1.0\\;μF$"
      ],
      "text/plain": [
       "<IPython.core.display.Math object>"
      ]
     },
     "metadata": {},
     "output_type": "display_data"
    },
    {
     "data": {
      "text/latex": [
       "$\\displaystyle v_C(0) = 5\\;V$"
      ],
      "text/plain": [
       "<IPython.core.display.Math object>"
      ]
     },
     "metadata": {},
     "output_type": "display_data"
    },
    {
     "data": {
      "text/latex": [
       "$\\displaystyle R1 = 9\\;Ω$"
      ],
      "text/plain": [
       "<IPython.core.display.Math object>"
      ]
     },
     "metadata": {},
     "output_type": "display_data"
    },
    {
     "data": {
      "text/latex": [
       "$\\displaystyle R2 = 2\\;Ω$"
      ],
      "text/plain": [
       "<IPython.core.display.Math object>"
      ]
     },
     "metadata": {},
     "output_type": "display_data"
    },
    {
     "data": {
      "text/latex": [
       "$\\displaystyle R3 = 5\\;Ω$"
      ],
      "text/plain": [
       "<IPython.core.display.Math object>"
      ]
     },
     "metadata": {},
     "output_type": "display_data"
    }
   ],
   "source": [
    "m = [8,1,4] #<<<<<<<< 3 ÚLTIMOS DÍGITOS DA MATRÍCULA\n",
    "t = sp.symbols('t', real=True)\n",
    "t0 = 0\n",
    "# Elementos do circuito\n",
    "v = 2 ; symdisp('v = ',v,'V')# fonte de tensão \n",
    "i = 1 ; symdisp('i = ',i,'A')# fonte de corrente\n",
    "L = 2 ; symdisp('L = ',L,'H')# Indutância\n",
    "C = (10**-6); symdisp('C = ',C*(10**6),'μF') # Capacitor\n",
    "v_C_0 = 5 ; symdisp('v_C(0) = ',v_C_0,'V') #tensão inicial no capacitor\n",
    "r1 = m[0]+1; symdisp('R1 = ',r1,'Ω') # resistencia 1\n",
    "r2 = m[1]+1; symdisp('R2 = ',r2,'Ω') # resistencia 2\n",
    "r3 = m[2]+1; symdisp('R3 = ',r3,'Ω') # resistencia 3\n"
   ]
  },
  {
   "cell_type": "markdown",
   "metadata": {},
   "source": [
    "# a)"
   ]
  },
  {
   "cell_type": "code",
   "execution_count": 92,
   "metadata": {},
   "outputs": [
    {
     "name": "stdout",
     "output_type": "stream",
     "text": [
      "Fonte de corrente após conversão da fonte de tensão:\n"
     ]
    },
    {
     "data": {
      "text/latex": [
       "$\\displaystyle i_{eq}=0.222\\;A$"
      ],
      "text/plain": [
       "<IPython.core.display.Math object>"
      ]
     },
     "metadata": {},
     "output_type": "display_data"
    },
    {
     "data": {
      "text/latex": [
       "$\\displaystyle i_L(0^{-})=-1\\;A$"
      ],
      "text/plain": [
       "<IPython.core.display.Math object>"
      ]
     },
     "metadata": {},
     "output_type": "display_data"
    },
    {
     "data": {
      "text/latex": [
       "$\\displaystyle R_{Th} = 1.636\\;Ω$"
      ],
      "text/plain": [
       "<IPython.core.display.Math object>"
      ]
     },
     "metadata": {},
     "output_type": "display_data"
    },
    {
     "data": {
      "text/latex": [
       "$\\displaystyle τ = 1.222\\;s$"
      ],
      "text/plain": [
       "<IPython.core.display.Math object>"
      ]
     },
     "metadata": {},
     "output_type": "display_data"
    },
    {
     "data": {
      "text/latex": [
       "$\\displaystyle Resposta:i_L(t) =\\begin{cases} -1 & \\text{for}\\: t < 0 \\\\0.778 - 1.778 e^{- 0.818 t} & \\text{otherwise} \\end{cases}\\;A$"
      ],
      "text/plain": [
       "<IPython.core.display.Math object>"
      ]
     },
     "metadata": {},
     "output_type": "display_data"
    },
    {
     "data": {
      "image/png": "[encoded data removed]",
      "text/plain": [
       "<Figure size 1080x648 with 1 Axes>"
      ]
     },
     "execution_count": 92,
     "metadata": {},
     "output_type": "execute_result"
    }
   ],
   "source": [
    "# Letra A - Determinar i_L para 0<= t <= 1s :\n",
    "\n",
    "# Entre 0<=t<=1, o indutor está em curto circuito, logo para o circuito equivalente a resistencia 2 será anulada;\n",
    "# Em seguida farei transformação de fonte para obter aa fonte de correntes em paralelos e em seguida uma só fonte de corrente:\n",
    "print('Fonte de corrente após conversão da fonte de tensão:')\n",
    "i2 = v/r1; symdisp('i_{eq}=',round(i2,3),'A')\n",
    "\n",
    "# Fontes de correntes em paralelos soma-se as duas:\n",
    "i3 = -i2+i\n",
    "i_L_0 = -i ; symdisp('i_L(0^{-})=',i_L_0,'A')\n",
    "\n",
    "# Agora para obtenção da constante de tempo devemos fazer o Rth\n",
    "Rth = (r1*r2)/(r1+r2); symdisp('R_{Th} = ',round(Rth,3),'Ω')\n",
    "v2 = i3*Rth\n",
    "Ao = i_L_0 - i3\n",
    "τ = L/Rth; symdisp('τ = ',round(τ,3),'s')\n",
    "\n",
    "# Com todos os valores \"em mãos\" podemos definir o valor de i_L(t)\n",
    "i_L_t = (v2/Rth) + Ao*sp.exp(-t/τ);\n",
    "\n",
    "i_L_t_plot = sp.Piecewise((-i,t<0),(i_L_t, t>= 0))\n",
    "symdisp('Resposta:i_L(t) =', round_expr(i_L_t_plot,3), 'A')\n",
    "\n",
    "intervalo  = np.linspace(t0-τ, t0+5*τ, 500)\n",
    "symplot(t, i_L_t_plot, intervalo, funLabel = '$i_L(t)$ [A]') \n",
    "\n"
   ]
  },
  {
   "cell_type": "markdown",
   "metadata": {},
   "source": [
    "# Letra B"
   ]
  },
  {
   "cell_type": "code",
   "execution_count": 93,
   "metadata": {},
   "outputs": [
    {
     "data": {
      "text/latex": [
       "$\\displaystyle α =305555.556\\; \\frac{rad}{s}$"
      ],
      "text/plain": [
       "<IPython.core.display.Math object>"
      ]
     },
     "metadata": {},
     "output_type": "display_data"
    },
    {
     "data": {
      "text/latex": [
       "$\\displaystyle ω_0 =707.107\\; \\frac{rad}{s}$"
      ],
      "text/plain": [
       "<IPython.core.display.Math object>"
      ]
     },
     "metadata": {},
     "output_type": "display_data"
    }
   ],
   "source": [
    "# calculando α e ω0\n",
    "α  = 1/(2*Rth*C)       # Frequência de Neper do circuito RLC em paralelo\n",
    "ω0 = 1/np.sqrt(L*C)  # Frequência de ressonância do circuito RLC\n",
    "\n",
    "symdisp('α =', round(α,3), ' \\\\frac{rad}{s}')\n",
    "symdisp('ω_0 =', round(ω0, 3), ' \\\\frac{rad}{s}')\n"
   ]
  },
  {
   "cell_type": "markdown",
   "metadata": {},
   "source": [
    "Define os valores iniciais da tensão no capacitor e Corrente no Indutor, e o valor final da corrente no indutor."
   ]
  },
  {
   "cell_type": "code",
   "execution_count": 94,
   "metadata": {},
   "outputs": [],
   "source": [
    "# informações obtidas pela análise do circuito\n",
    "\n",
    "t0 = 0 # instante do chaveamento\n",
    "\n",
    "iL_inf =-777*(10**-3)  # valor final da corrente no indutor\n",
    "iL_t0 = -777*(10**-3)   # valor inicial da corrente no indutor\n",
    "vc_t0 = v_C_0  # valor inicial da tensão no capcitor\n"
   ]
  },
  {
   "cell_type": "markdown",
   "metadata": {},
   "source": [
    "Calcula as raízes da equação característica S1 e S2"
   ]
  },
  {
   "cell_type": "code",
   "execution_count": 95,
   "metadata": {},
   "outputs": [
    {
     "name": "stdout",
     "output_type": "stream",
     "text": [
      "Raízes da equação característica:\n"
     ]
    },
    {
     "data": {
      "text/latex": [
       "$\\displaystyle s_1 =-0.82\\; rad/s$"
      ],
      "text/plain": [
       "<IPython.core.display.Math object>"
      ]
     },
     "metadata": {},
     "output_type": "display_data"
    },
    {
     "data": {
      "text/latex": [
       "$\\displaystyle s_2 =-611110.29\\; rad/s$"
      ],
      "text/plain": [
       "<IPython.core.display.Math object>"
      ]
     },
     "metadata": {},
     "output_type": "display_data"
    },
    {
     "name": "stdout",
     "output_type": "stream",
     "text": [
      "Forma geral da solução:\n"
     ]
    },
    {
     "data": {
      "text/latex": [
       "$\\displaystyle i_L(t) = A_{1} e^{- 0.818 t} + A_{2} e^{- 611110.293 t} - 0.777\\;A$"
      ],
      "text/plain": [
       "<IPython.core.display.Math object>"
      ]
     },
     "metadata": {},
     "output_type": "display_data"
    }
   ],
   "source": [
    "# raízes da equação característica\n",
    "s1 = -α + np.sqrt(α**2-ω0**2)\n",
    "s2 = -α - np.sqrt(α**2-ω0**2)\n",
    "\n",
    "print('Raízes da equação característica:')\n",
    "symdisp('s_1 =', round(s1, 2), ' rad/s')\n",
    "symdisp('s_2 =', round(s2, 2), ' rad/s')\n",
    "\n",
    "# define variáveis da solução geral\n",
    "t, A1, A2 = sp.symbols('t, A1, A2')\n",
    "\n",
    "# expressão geral da resposta superamortecida\n",
    "iL = A1*sp.exp(s1*(t-t0)) + A2*sp.exp(s2*(t-t0)) + iL_inf\n",
    "\n",
    "print('Forma geral da solução:')\n",
    "symdisp('i_L(t) = ', round_expr(iL,3), 'A')\n"
   ]
  },
  {
   "cell_type": "markdown",
   "metadata": {},
   "source": [
    "Resolve o sistema de equações para determinar as constantes $A_1$ e $A_2$"
   ]
  },
  {
   "cell_type": "code",
   "execution_count": 96,
   "metadata": {},
   "outputs": [
    {
     "name": "stdout",
     "output_type": "stream",
     "text": [
      "Sistema de equações:\n"
     ]
    },
    {
     "data": {
      "text/latex": [
       "$\\displaystyle (I): A_{1} + A_{2} - 0.78 = -0.78\\; $"
      ],
      "text/plain": [
       "<IPython.core.display.Math object>"
      ]
     },
     "metadata": {},
     "output_type": "display_data"
    },
    {
     "data": {
      "text/latex": [
       "$\\displaystyle (II): - 0.82 A_{1} - 611110.29 A_{2} = 2.5\\; $"
      ],
      "text/plain": [
       "<IPython.core.display.Math object>"
      ]
     },
     "metadata": {},
     "output_type": "display_data"
    },
    {
     "name": "stdout",
     "output_type": "stream",
     "text": [
      "Solução do sistema:\n"
     ]
    },
    {
     "data": {
      "text/latex": [
       "$\\displaystyle A_1 =4.0 \\cdot 10^{-6}\\; A$"
      ],
      "text/plain": [
       "<IPython.core.display.Math object>"
      ]
     },
     "metadata": {},
     "output_type": "display_data"
    },
    {
     "data": {
      "text/latex": [
       "$\\displaystyle A_2 =-4.0 \\cdot 10^{-6}\\; A$"
      ],
      "text/plain": [
       "<IPython.core.display.Math object>"
      ]
     },
     "metadata": {},
     "output_type": "display_data"
    }
   ],
   "source": [
    "# define os sistema de equações com as condições iniciais\n",
    "eq1 = sp.Eq(   A1 +    A2 + iL_inf, iL_t0)             \n",
    "eq2 = sp.Eq(s1*A1 + s2*A2,        vc_t0/L)  \n",
    "\n",
    "print('Sistema de equações:')\n",
    "symdisp('(I): ', round_expr(eq1, 2),' ')\n",
    "symdisp('(II): ', round_expr(eq2, 2),' ')\n",
    "\n",
    "# resolve o sistema\n",
    "soluc = sp.solve((eq1, eq2), dict=True)\n",
    "A1 = np.array([sol[A1] for sol in soluc])\n",
    "A2 = np.array([sol[A2] for sol in soluc])\n",
    "\n",
    "A1 = A1[0]\n",
    "A2 = A2[0]\n",
    "\n",
    "print('Solução do sistema:')\n",
    "symdisp('A_1 =', round(A1,6), ' A')\n",
    "symdisp('A_2 =', round(A2,6), ' A')\n"
   ]
  },
  {
   "cell_type": "markdown",
   "metadata": {},
   "source": [
    "Expressão Final e Gráfico da corrente no Indutor:"
   ]
  },
  {
   "cell_type": "code",
   "execution_count": 97,
   "metadata": {},
   "outputs": [
    {
     "data": {
      "text/latex": [
       "$\\displaystyle i_L(t) = \\begin{cases} -0.777 & \\text{for}\\: t < 0 \\\\-0.777 - 4.0 \\cdot 10^{-6} e^{- 611110.292928 t} + 4.0 \\cdot 10^{-6} e^{- 0.818183 t} & \\text{otherwise} \\end{cases}\\;A$"
      ],
      "text/plain": [
       "<IPython.core.display.Math object>"
      ]
     },
     "metadata": {},
     "output_type": "display_data"
    },
    {
     "data": {
      "image/png": "[encoded data removed]",
      "text/plain": [
       "<Figure size 1080x648 with 1 Axes>"
      ]
     },
     "execution_count": 97,
     "metadata": {},
     "output_type": "execute_result"
    }
   ],
   "source": [
    "# expressão geral da resposta subamortecida\n",
    "iL = A1*sp.exp(s1*(t-t0)) + A2*sp.exp(s2*(t-t0)) + iL_inf\n",
    "\n",
    "iL_plot = sp.Piecewise((iL_t0,t<0),(iL,t>=0))\n",
    "symdisp('i_L(t) = ', round_expr(iL_plot,6), 'A')\n",
    "\n",
    "intervalo = np.linspace(t0-τ*10**-5,t0+(τ*10**-5),1000)\n",
    "symplot(t,iL_plot, intervalo, funLabel ='$i_L(t)$[A]')\n"
   ]
  },
  {
   "cell_type": "markdown",
   "metadata": {},
   "source": [
    "Tensão no Capacitor apartir do valor da corrente no Indutor:"
   ]
  },
  {
   "cell_type": "code",
   "execution_count": 98,
   "metadata": {},
   "outputs": [
    {
     "data": {
      "text/latex": [
       "$\\displaystyle v_C(t) = \\begin{cases} 5 & \\text{for}\\: t < 0 \\\\5.0 e^{- 611110.293 t} & \\text{otherwise} \\end{cases}\\;V$"
      ],
      "text/plain": [
       "<IPython.core.display.Math object>"
      ]
     },
     "metadata": {},
     "output_type": "display_data"
    },
    {
     "data": {
      "image/png": "[encoded data removed]",
      "text/plain": [
       "<Figure size 1080x648 with 1 Axes>"
      ]
     },
     "execution_count": 98,
     "metadata": {},
     "output_type": "execute_result"
    }
   ],
   "source": [
    "vL = L*sp.diff(iL,t)\n",
    "vc = vL\n",
    "\n",
    "vc_plot = sp.Piecewise((vc_t0,t<0),(vc,t>=0))\n",
    "symdisp('v_C(t) = ', round_expr(vc_plot,3), 'V')\n",
    "\n",
    "intervalo = np.linspace(t0-τ*10**-5,t0+τ*10**-5,1000)\n",
    "symplot(t,vc_plot, intervalo, funLabel = '$V_c(t)$[V]')\n"
   ]
  },
  {
   "cell_type": "markdown",
   "metadata": {},
   "source": [
    "# c)"
   ]
  },
  {
   "cell_type": "code",
   "execution_count": 99,
   "metadata": {},
   "outputs": [
    {
     "data": {
      "text/latex": [
       "$\\displaystyle lim_{t->oo} W_C(t) = 0\\;J$"
      ],
      "text/plain": [
       "<IPython.core.display.Math object>"
      ]
     },
     "metadata": {},
     "output_type": "display_data"
    },
    {
     "data": {
      "text/latex": [
       "$\\displaystyle W_L(oo) = 603.73\\;mJ$"
      ],
      "text/plain": [
       "<IPython.core.display.Math object>"
      ]
     },
     "metadata": {},
     "output_type": "display_data"
    }
   ],
   "source": [
    "# wc = 0.5*C*vc**2\n",
    "wc = sp.limit(0.5*C*vc**2,t,oo); symdisp('lim_{t->oo} W_C(t) = ',wc,'J')\n",
    "# wL = 0.5*L*iL**2\n",
    "wL = 0.5*L*iL_inf**2; symdisp('W_L(oo) = ',round(wL*10**3,2),'mJ')\n"
   ]
  },
  {
   "cell_type": "markdown",
   "metadata": {},
   "source": [
    "# d)"
   ]
  },
  {
   "cell_type": "markdown",
   "metadata": {},
   "source": [
    "PARTE 1: *iL(t) para 0 <= t <= 1s*"
   ]
  },
  {
   "cell_type": "code",
   "execution_count": 100,
   "metadata": {},
   "outputs": [
    {
     "data": {
      "text/latex": [
       "$\\displaystyle α =250000.0\\; \\frac{rad}{s}$"
      ],
      "text/plain": [
       "<IPython.core.display.Math object>"
      ]
     },
     "metadata": {},
     "output_type": "display_data"
    },
    {
     "data": {
      "text/latex": [
       "$\\displaystyle ω_0 =707.107\\; \\frac{rad}{s}$"
      ],
      "text/plain": [
       "<IPython.core.display.Math object>"
      ]
     },
     "metadata": {},
     "output_type": "display_data"
    },
    {
     "name": "stdout",
     "output_type": "stream",
     "text": [
      "Raízes da equação característica:\n"
     ]
    },
    {
     "data": {
      "text/latex": [
       "$\\displaystyle s_1 =-1.0\\; rad/s$"
      ],
      "text/plain": [
       "<IPython.core.display.Math object>"
      ]
     },
     "metadata": {},
     "output_type": "display_data"
    },
    {
     "data": {
      "text/latex": [
       "$\\displaystyle s_2 =-499999.0\\; rad/s$"
      ],
      "text/plain": [
       "<IPython.core.display.Math object>"
      ]
     },
     "metadata": {},
     "output_type": "display_data"
    },
    {
     "name": "stdout",
     "output_type": "stream",
     "text": [
      "Forma geral da solução:\n"
     ]
    },
    {
     "data": {
      "text/latex": [
       "$\\displaystyle i_L(t) = A_{1} e^{- 1.0 t} + A_{2} e^{- 499999.0 t} - 1\\;A$"
      ],
      "text/plain": [
       "<IPython.core.display.Math object>"
      ]
     },
     "metadata": {},
     "output_type": "display_data"
    }
   ],
   "source": [
    "# calculando α e ω0\n",
    "α  = 1/(2*r2*C)       # Frequência de Neper do circuito RLC em paralelo\n",
    "ω0 = 1/np.sqrt(L*C)  # Frequência de ressonância do circuito RLC\n",
    "\n",
    "symdisp('α =', round(α,3), ' \\\\frac{rad}{s}')\n",
    "symdisp('ω_0 =', round(ω0, 3), ' \\\\frac{rad}{s}')\n",
    "\n",
    "# raízes da equação característica\n",
    "s1 = -α + np.sqrt(α**2-ω0**2)\n",
    "s2 = -α - np.sqrt(α**2-ω0**2)\n",
    "\n",
    "print('Raízes da equação característica:')\n",
    "symdisp('s_1 =', round(s1, 3), ' rad/s')\n",
    "symdisp('s_2 =', round(s2, 3), ' rad/s')\n",
    "\n",
    "# define variáveis da solução geral\n",
    "t, A1, A2 = sp.symbols('t, A1, A2')\n",
    "iL_t0 = -1\n",
    "iL_inf = -1\n",
    "# expressão geral da resposta superamortecida\n",
    "iL = A1*sp.exp(s1*(t-t0)) + A2*sp.exp(s2*(t-t0)) + iL_inf\n",
    "\n",
    "print('Forma geral da solução:')\n",
    "symdisp('i_L(t) = ', round_expr(iL,3), 'A')\n"
   ]
  },
  {
   "cell_type": "code",
   "execution_count": 101,
   "metadata": {},
   "outputs": [
    {
     "name": "stdout",
     "output_type": "stream",
     "text": [
      "Sistema de equações:\n"
     ]
    },
    {
     "data": {
      "text/latex": [
       "$\\displaystyle (I): A_{1} + A_{2} - 1 = -1\\; $"
      ],
      "text/plain": [
       "<IPython.core.display.Math object>"
      ]
     },
     "metadata": {},
     "output_type": "display_data"
    },
    {
     "data": {
      "text/latex": [
       "$\\displaystyle (II): - 1.0 A_{1} - 499999.0 A_{2} = 2.5\\; $"
      ],
      "text/plain": [
       "<IPython.core.display.Math object>"
      ]
     },
     "metadata": {},
     "output_type": "display_data"
    },
    {
     "name": "stdout",
     "output_type": "stream",
     "text": [
      "Solução do sistema:\n"
     ]
    },
    {
     "data": {
      "text/latex": [
       "$\\displaystyle A_1 =5.0 \\cdot 10^{-6}\\; A$"
      ],
      "text/plain": [
       "<IPython.core.display.Math object>"
      ]
     },
     "metadata": {},
     "output_type": "display_data"
    },
    {
     "data": {
      "text/latex": [
       "$\\displaystyle A_2 =-5.0 \\cdot 10^{-6}\\; A$"
      ],
      "text/plain": [
       "<IPython.core.display.Math object>"
      ]
     },
     "metadata": {},
     "output_type": "display_data"
    }
   ],
   "source": [
    "# define os sistema de equações com as condições iniciais\n",
    "eq1 = sp.Eq(   A1 +    A2 + iL_inf, iL_t0)             \n",
    "eq2 = sp.Eq(s1*A1 + s2*A2,        vc_t0/L)  \n",
    "\n",
    "print('Sistema de equações:')\n",
    "symdisp('(I): ', round_expr(eq1, 2),' ')\n",
    "symdisp('(II): ', round_expr(eq2, 2),' ')\n",
    "\n",
    "# resolve o sistema\n",
    "soluc = sp.solve((eq1, eq2), dict=True)\n",
    "A1 = np.array([sol[A1] for sol in soluc])\n",
    "A2 = np.array([sol[A2] for sol in soluc])\n",
    "\n",
    "A1 = A1[0]\n",
    "A2 = A2[0]\n",
    "\n",
    "print('Solução do sistema:')\n",
    "symdisp('A_1 =', round(A1,6), ' A')\n",
    "symdisp('A_2 =', round(A2,6), ' A')\n"
   ]
  },
  {
   "cell_type": "code",
   "execution_count": 102,
   "metadata": {},
   "outputs": [
    {
     "data": {
      "text/latex": [
       "$\\displaystyle i_L(t) = \\begin{cases} -1 & \\text{for}\\: t < 0 \\\\-1 - 5.0 \\cdot 10^{-6} e^{- 499998.999998 t} + 5.0 \\cdot 10^{-6} e^{- 1.000002 t} & \\text{for}\\: t \\leq 1 \\end{cases}\\;A$"
      ],
      "text/plain": [
       "<IPython.core.display.Math object>"
      ]
     },
     "metadata": {},
     "output_type": "display_data"
    },
    {
     "name": "stderr",
     "output_type": "stream",
     "text": [
      "<lambdifygenerated-34>:2: RuntimeWarning: overflow encountered in exp\n",
      "  return select([less(t, 0),less_equal(t, 1)], [-1,-1 - 5.00002000012e-6*exp(-499998.999998*t) + 5.00002000012e-6*exp(-1.00000200001523*t)], default=nan)\n"
     ]
    },
    {
     "data": {
      "image/png": "[encoded data removed]",
      "text/plain": [
       "<Figure size 1080x648 with 1 Axes>"
      ]
     },
     "execution_count": 102,
     "metadata": {},
     "output_type": "execute_result"
    }
   ],
   "source": [
    "# expressão geral da resposta subamortecida\n",
    "iL = A1*sp.exp(s1*(t-t0)) + A2*sp.exp(s2*(t-t0)) + iL_inf\n",
    "\n",
    "iL_plot = sp.Piecewise((iL_t0,t<0),(iL,t<=1))\n",
    "symdisp('i_L(t) = ', round_expr(iL_plot,6), 'A')\n",
    "\n",
    "intervalo = np.linspace(-1+t0-τ*10**-5,t0+(τ*10**-4)+1,1000)\n",
    "symplot(t,iL_plot, intervalo, funLabel ='$i_L(t)$[A]')\n"
   ]
  },
  {
   "cell_type": "markdown",
   "metadata": {},
   "source": [
    "Por um instante cheguei a pensar que estivesse errado ppor conta do comportamento do gráfico, pois aparentemente a corrente está variando repentinamente no indutor, coisa que não é posível. Porém com a resolução do gráfico ajustada, vemos o comportamento que se espera da corrente no indutor:"
   ]
  },
  {
   "cell_type": "code",
   "execution_count": 103,
   "metadata": {},
   "outputs": [
    {
     "data": {
      "image/png": "[encoded data removed]",
      "text/plain": [
       "<Figure size 1080x648 with 1 Axes>"
      ]
     },
     "execution_count": 103,
     "metadata": {},
     "output_type": "execute_result"
    }
   ],
   "source": [
    "intervalo = np.linspace(t0-τ*10**-5,t0+(τ*10**-4),1000)\n",
    "symplot(t,iL_plot, intervalo, funLabel ='$i_L(t)$[A]')\n"
   ]
  },
  {
   "cell_type": "markdown",
   "metadata": {},
   "source": [
    "PARTE 2: *iL(t) para t >= 1s*"
   ]
  },
  {
   "cell_type": "code",
   "execution_count": 104,
   "metadata": {},
   "outputs": [
    {
     "data": {
      "text/latex": [
       "$\\displaystyle α =305555.556\\; \\frac{rad}{s}$"
      ],
      "text/plain": [
       "<IPython.core.display.Math object>"
      ]
     },
     "metadata": {},
     "output_type": "display_data"
    },
    {
     "data": {
      "text/latex": [
       "$\\displaystyle ω_0 =707.107\\; \\frac{rad}{s}$"
      ],
      "text/plain": [
       "<IPython.core.display.Math object>"
      ]
     },
     "metadata": {},
     "output_type": "display_data"
    },
    {
     "name": "stdout",
     "output_type": "stream",
     "text": [
      "Raízes da equação característica:\n"
     ]
    },
    {
     "data": {
      "text/latex": [
       "$\\displaystyle s_1 =-0.818\\; \\frac{rad}{s}$"
      ],
      "text/plain": [
       "<IPython.core.display.Math object>"
      ]
     },
     "metadata": {},
     "output_type": "display_data"
    },
    {
     "data": {
      "text/latex": [
       "$\\displaystyle s_2 =-611110.293\\; \\frac{rad}{s}$"
      ],
      "text/plain": [
       "<IPython.core.display.Math object>"
      ]
     },
     "metadata": {},
     "output_type": "display_data"
    },
    {
     "name": "stdout",
     "output_type": "stream",
     "text": [
      "Forma geral da solução:\n"
     ]
    },
    {
     "data": {
      "text/latex": [
       "$\\displaystyle i_L(t) = A_{1} e^{- 0.818 t} + A_{2} e^{- 611110.293 t} - 0.777\\;A$"
      ],
      "text/plain": [
       "<IPython.core.display.Math object>"
      ]
     },
     "metadata": {},
     "output_type": "display_data"
    }
   ],
   "source": [
    "# calculando α e ω0\n",
    "α  = 1/(2*Rth*C)       # Frequência de Neper do circuito RLC em paralelo\n",
    "ω0 = 1/np.sqrt(L*C)  # Frequência de ressonância do circuito RLC\n",
    "\n",
    "symdisp('α =', round(α,3), ' \\\\frac{rad}{s}')\n",
    "symdisp('ω_0 =', round(ω0, 3), ' \\\\frac{rad}{s}')\n",
    "\n",
    "# raízes da equação característica\n",
    "s1 = -α + np.sqrt(α**2-ω0**2)\n",
    "s2 = -α - np.sqrt(α**2-ω0**2)\n",
    "\n",
    "print('Raízes da equação característica:')\n",
    "symdisp('s_1 =', round(s1, 3), ' \\\\frac{rad}{s}')\n",
    "symdisp('s_2 =', round(s2, 3), ' \\\\frac{rad}{s}')\n",
    "\n",
    "# define variáveis da solução geral\n",
    "t, A1, A2 = sp.symbols('t, A1, A2')\n",
    "iL_t0 = -1\n",
    "iL_inf = -777*10**-3\n",
    "# expressão geral da resposta superamortecida\n",
    "iL = A1*sp.exp(s1*(t-t0)) + A2*sp.exp(s2*(t-t0)) + iL_inf\n",
    "\n",
    "print('Forma geral da solução:')\n",
    "symdisp('i_L(t) = ', round_expr(iL,3), 'A')\n"
   ]
  },
  {
   "cell_type": "code",
   "execution_count": 105,
   "metadata": {},
   "outputs": [
    {
     "name": "stdout",
     "output_type": "stream",
     "text": [
      "Sistema de equações:\n"
     ]
    },
    {
     "data": {
      "text/latex": [
       "$\\displaystyle (I): A_{1} + A_{2} - 0.78 = -1\\; $"
      ],
      "text/plain": [
       "<IPython.core.display.Math object>"
      ]
     },
     "metadata": {},
     "output_type": "display_data"
    },
    {
     "data": {
      "text/latex": [
       "$\\displaystyle (II): - 0.82 A_{1} - 611110.29 A_{2} = 2.5\\; $"
      ],
      "text/plain": [
       "<IPython.core.display.Math object>"
      ]
     },
     "metadata": {},
     "output_type": "display_data"
    },
    {
     "name": "stdout",
     "output_type": "stream",
     "text": [
      "Solução do sistema:\n"
     ]
    },
    {
     "data": {
      "text/latex": [
       "$\\displaystyle A_1 =-0.222996\\; A$"
      ],
      "text/plain": [
       "<IPython.core.display.Math object>"
      ]
     },
     "metadata": {},
     "output_type": "display_data"
    },
    {
     "data": {
      "text/latex": [
       "$\\displaystyle A_2 =-4.0 \\cdot 10^{-6}\\; A$"
      ],
      "text/plain": [
       "<IPython.core.display.Math object>"
      ]
     },
     "metadata": {},
     "output_type": "display_data"
    }
   ],
   "source": [
    "# define os sistema de equações com as condições iniciais\n",
    "eq1 = sp.Eq(   A1 +    A2 + iL_inf, iL_t0)             \n",
    "eq2 = sp.Eq(s1*A1 + s2*A2,        vc_t0/L)  \n",
    "\n",
    "print('Sistema de equações:')\n",
    "symdisp('(I): ', round_expr(eq1, 2),' ')\n",
    "symdisp('(II): ', round_expr(eq2, 2),' ')\n",
    "\n",
    "# resolve o sistema\n",
    "soluc = sp.solve((eq1, eq2), dict=True)\n",
    "A1 = np.array([sol[A1] for sol in soluc])\n",
    "A2 = np.array([sol[A2] for sol in soluc])\n",
    "\n",
    "A1 = A1[0]\n",
    "A2 = A2[0]\n",
    "\n",
    "print('Solução do sistema:')\n",
    "symdisp('A_1 =', round(A1,6), ' A')\n",
    "symdisp('A_2 =', round(A2,6), ' A')\n"
   ]
  },
  {
   "cell_type": "code",
   "execution_count": 106,
   "metadata": {},
   "outputs": [
    {
     "data": {
      "text/latex": [
       "$\\displaystyle i_L(t) = \\begin{cases} -1 & \\text{for}\\: t < 1 \\\\-0.777 - 4.0 \\cdot 10^{-6} e^{- 611110.292928 t} - 0.222996 e^{- 0.818183 t} & \\text{otherwise} \\end{cases}\\;A$"
      ],
      "text/plain": [
       "<IPython.core.display.Math object>"
      ]
     },
     "metadata": {},
     "output_type": "display_data"
    },
    {
     "data": {
      "image/png": "[encoded data removed]",
      "text/plain": [
       "<Figure size 1080x648 with 1 Axes>"
      ]
     },
     "execution_count": 106,
     "metadata": {},
     "output_type": "execute_result"
    }
   ],
   "source": [
    "# expressão geral da resposta subamortecida\n",
    "iL = A1*sp.exp(s1*(t-t0)) + A2*sp.exp(s2*(t-t0)) + iL_inf\n",
    "\n",
    "iL_plot = sp.Piecewise((iL_t0,t<1),(iL,t>=1))\n",
    "symdisp('i_L(t) = ', round_expr(iL_plot,6), 'A')\n",
    "\n",
    "intervalo = np.linspace(0.1,t0+10,1000)\n",
    "symplot(t,iL_plot, intervalo, funLabel ='$i_L(t)$[A]')\n"
   ]
  }
 ],
 "metadata": {
  "interpreter": {
   "hash": "c447c3cb8524a32dffcb5b7dc5949d51da75a9fa8c9e67fdc0a3ad2d0514cf36"
  },
  "kernelspec": {
   "display_name": "Python 3.10.0 64-bit",
   "language": "python",
   "name": "python3"
  },
  "language_info": {
   "codemirror_mode": {
    "name": "ipython",
    "version": 3
   },
   "file_extension": ".py",
   "mimetype": "text/x-python",
   "name": "python",
   "nbconvert_exporter": "python",
   "pygments_lexer": "ipython3",
   "version": "3.10.0"
  },
  "orig_nbformat": 4
 },
 "nbformat": 4,
 "nbformat_minor": 2
}
