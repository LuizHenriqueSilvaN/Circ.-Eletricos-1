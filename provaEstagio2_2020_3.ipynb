{
 "cells": [
  {
   "cell_type": "markdown",
   "metadata": {},
   "source": [
    "# Questão 1"
   ]
  },
  {
   "cell_type": "code",
   "execution_count": 120,
   "metadata": {},
   "outputs": [],
   "source": [
    "import sympy as sp\n",
    "import numpy as np\n",
    "from sympy import *\n",
    "from utils import symdisp, symplot, round_expr"
   ]
  },
  {
   "cell_type": "code",
   "execution_count": 121,
   "metadata": {},
   "outputs": [
    {
     "data": {
      "text/plain": [
       "2"
      ]
     },
     "metadata": {},
     "output_type": "display_data"
    },
    {
     "data": {
      "text/plain": [
       "5"
      ]
     },
     "metadata": {},
     "output_type": "display_data"
    }
   ],
   "source": [
    "m = [1,4]\n",
    "r1 = 1+m[0];r2 = 1+m[1];display(r1,r2)\n",
    "v = 10\n",
    "L1 = 100*(10**-3) ; L2 = 25*(10**-3)\n",
    "#Corrente inicial no indutor\n",
    "Io = 0"
   ]
  },
  {
   "cell_type": "markdown",
   "metadata": {},
   "source": [
    "# a)"
   ]
  },
  {
   "cell_type": "code",
   "execution_count": 122,
   "metadata": {},
   "outputs": [
    {
     "data": {
      "text/latex": [
       "$\\displaystyle i_1 (0^+)= 0.833\\;A$"
      ],
      "text/plain": [
       "<IPython.core.display.Math object>"
      ]
     },
     "metadata": {},
     "output_type": "display_data"
    },
    {
     "data": {
      "text/latex": [
       "$\\displaystyle i_2 (0^+)= 0.833\\;A$"
      ],
      "text/plain": [
       "<IPython.core.display.Math object>"
      ]
     },
     "metadata": {},
     "output_type": "display_data"
    },
    {
     "data": {
      "text/latex": [
       "$\\displaystyle i_L (0^+)= 0\\;A$"
      ],
      "text/plain": [
       "<IPython.core.display.Math object>"
      ]
     },
     "metadata": {},
     "output_type": "display_data"
    }
   ],
   "source": [
    "i1 = v/(r1+(2*r2));symdisp('i_1 (0^+)= ',round(i1,3),'A')\n",
    "i2 = i1; symdisp('i_2 (0^+)= ',round(i2,3),'A')\n",
    "iL = 0; symdisp('i_L (0^+)= ',round(iL,3),'A')"
   ]
  },
  {
   "cell_type": "markdown",
   "metadata": {},
   "source": [
    "# c)"
   ]
  },
  {
   "cell_type": "code",
   "execution_count": 123,
   "metadata": {},
   "outputs": [
    {
     "data": {
      "text/latex": [
       "$\\displaystyle R_{Th} = 8.667\\;Ω$"
      ],
      "text/plain": [
       "<IPython.core.display.Math object>"
      ]
     },
     "metadata": {},
     "output_type": "display_data"
    },
    {
     "data": {
      "text/latex": [
       "$\\displaystyle V_{Th} = 8.333\\;V$"
      ],
      "text/plain": [
       "<IPython.core.display.Math object>"
      ]
     },
     "metadata": {},
     "output_type": "display_data"
    },
    {
     "data": {
      "text/latex": [
       "$\\displaystyle L_{eq} = 125.0\\;mH$"
      ],
      "text/plain": [
       "<IPython.core.display.Math object>"
      ]
     },
     "metadata": {},
     "output_type": "display_data"
    },
    {
     "data": {
      "text/latex": [
       "$\\displaystyle τ = 14.423\\;ms$"
      ],
      "text/plain": [
       "<IPython.core.display.Math object>"
      ]
     },
     "metadata": {},
     "output_type": "display_data"
    }
   ],
   "source": [
    "#resistencia equivalente \n",
    "Rth = ((r1*2*r2)/(r1+(2*r2)))+ r1 + r2; symdisp('R_{Th} = ',round(Rth,3),'Ω')\n",
    "#Tensão de thevenin\n",
    "Vth = ((r1*2*r2)/(r1+(2*r2))) * 5;symdisp('V_{Th} = ',round(Vth,3),'V')\n",
    "# Indutor equivalente\n",
    "Leq = L1 + L2; symdisp('L_{eq} = ',Leq*10**3,'mH')\n",
    "# constatnet de tempo\n",
    "τ = Leq/Rth ; symdisp('τ = ',round(τ*10**3,3),'ms')"
   ]
  },
  {
   "cell_type": "markdown",
   "metadata": {},
   "source": [
    "# d)"
   ]
  },
  {
   "cell_type": "code",
   "execution_count": 131,
   "metadata": {},
   "outputs": [
    {
     "name": "stdout",
     "output_type": "stream",
     "text": [
      "Equação para circuito RL - resposta ao Degrau\n"
     ]
    },
    {
     "data": {
      "text/latex": [
       "$\\displaystyle i_L(t) = 1.36 - 1.36 e^{- 69.333 t}\\;A$"
      ],
      "text/plain": [
       "<IPython.core.display.Math object>"
      ]
     },
     "metadata": {},
     "output_type": "display_data"
    },
    {
     "name": "stdout",
     "output_type": "stream",
     "text": [
      "Tensão no indutor 1 \n"
     ]
    },
    {
     "data": {
      "text/latex": [
       "$\\displaystyle v_{L1}(t) = 9.32 e^{- 69.333 t}\\;V$"
      ],
      "text/plain": [
       "<IPython.core.display.Math object>"
      ]
     },
     "metadata": {},
     "output_type": "display_data"
    },
    {
     "name": "stdout",
     "output_type": "stream",
     "text": [
      "Tensão no indutor 2\n"
     ]
    },
    {
     "data": {
      "text/latex": [
       "$\\displaystyle v_{L2}(t) = 2.33 e^{- 69.333 t}\\;V$"
      ],
      "text/plain": [
       "<IPython.core.display.Math object>"
      ]
     },
     "metadata": {},
     "output_type": "display_data"
    },
    {
     "data": {
      "image/png": "[encoded data removed]",
      "text/plain": [
       "<Figure size 432x288 with 1 Axes>"
      ]
     },
     "execution_count": 131,
     "metadata": {},
     "output_type": "execute_result"
    }
   ],
   "source": [
    "t = sp.symbols('t', real = True)\n",
    "print('Equação para circuito RL - resposta ao Degrau')\n",
    "iLt = (Io - (Vth/Rth))*sp.exp(-t/τ) + (Vth/Rth); symdisp('i_L(t) = ',round_expr(iLt,3) , 'A')\n",
    "iLt_plot = sp.Piecewise((0,t<0),(round_expr(iLt,3), t>= 0))\n",
    "\n",
    "\n",
    "print('Tensão no indutor 1 ')\n",
    "vL1 = L1*sp.diff(iLt,t); symdisp('v_{L1}(t) = ',round_expr(vL1,3), 'V')\n",
    "vL1t_plot = sp.Piecewise((0,t<0),(round_expr(vL1,3), t>= 0))\n",
    "\n",
    "print('Tensão no indutor 2')\n",
    "vL2 = L2*sp.diff(iLt,t); symdisp('v_{L2}(t) = ',round_expr(vL2,3), 'V')\n",
    "vL2t_plot = sp.Piecewise((0,t<0),(round_expr(vL2,3), t>= 0))\n",
    "\n",
    "intervalo = np.linspace(-0.1,0.2, 1000)\n",
    "symplot(t,[iLt_plot,vL1t_plot,vL2t_plot],intervalo,['iLt[A]','vL1[V]','vL2[V]'])"
   ]
  },
  {
   "cell_type": "code",
   "execution_count": 125,
   "metadata": {},
   "outputs": [
    {
     "data": {
      "image/png": "[encoded data removed]",
      "text/plain": [
       "<Figure size 432x288 with 1 Axes>"
      ]
     },
     "execution_count": 125,
     "metadata": {},
     "output_type": "execute_result"
    }
   ],
   "source": [
    "vLt_plot = sp.Piecewise((0,t<0),(round_expr(Leq*sp.diff(iLt,t),3), t>= 0))\n",
    "intervalo = np.linspace(-0.05,0.1, 1000)\n",
    "symplot(t,[iLt_plot,vLt_plot],intervalo,['iLt[A]','vL[V](Indutor Eq.)'])"
   ]
  },
  {
   "cell_type": "code",
   "execution_count": 126,
   "metadata": {},
   "outputs": [
    {
     "data": {
      "text/latex": [
       "$\\displaystyle v_{L1}(0) = 6.667\\;V$"
      ],
      "text/plain": [
       "<IPython.core.display.Math object>"
      ]
     },
     "metadata": {},
     "output_type": "display_data"
    },
    {
     "data": {
      "text/latex": [
       "$\\displaystyle \\frac{v_{L1}}{2}(0) = 3.333\\;V$"
      ],
      "text/plain": [
       "<IPython.core.display.Math object>"
      ]
     },
     "metadata": {},
     "output_type": "display_data"
    },
    {
     "data": {
      "text/latex": [
       "$\\displaystyle v_{L2}(0) = 1.667\\;V$"
      ],
      "text/plain": [
       "<IPython.core.display.Math object>"
      ]
     },
     "metadata": {},
     "output_type": "display_data"
    },
    {
     "data": {
      "text/latex": [
       "$\\displaystyle \\frac{v_{L2}}{2}(0) = 0.833\\;V$"
      ],
      "text/plain": [
       "<IPython.core.display.Math object>"
      ]
     },
     "metadata": {},
     "output_type": "display_data"
    },
    {
     "data": {
      "text/latex": [
       "$\\displaystyle t_{L1} = 10\\;ms$"
      ],
      "text/plain": [
       "<IPython.core.display.Math object>"
      ]
     },
     "metadata": {},
     "output_type": "display_data"
    },
    {
     "data": {
      "text/latex": [
       "$\\displaystyle t_{L2} = 10\\;ms$"
      ],
      "text/plain": [
       "<IPython.core.display.Math object>"
      ]
     },
     "metadata": {},
     "output_type": "display_data"
    }
   ],
   "source": [
    "vL1_inicial = vL1.evalf(subs={t:0}); \n",
    "symdisp('v_{L1}(0) = ',round_expr(vL1_inicial,3), 'V')\n",
    "symdisp('\\\\frac{v_{L1}}{2}(0) = ',round_expr(vL1_inicial/2,3), 'V')\n",
    "\n",
    "vL2_inicial = vL2.evalf(subs={t:0}); \n",
    "symdisp('v_{L2}(0) = ',round_expr(vL2_inicial,3), 'V')\n",
    "symdisp('\\\\frac{v_{L2}}{2}(0) = ',round_expr(vL2_inicial/2,3), 'V')\n",
    "\n",
    "\n",
    "eqVL1 = sp.Eq(vL1,vL1_inicial/2)\n",
    "eqVL2 = sp.Eq(vL2,vL2_inicial/2)\n",
    "\n",
    "tL1 = sp.nsolve(eqVL1,t,(0,10),solver = 'bisect'); symdisp('t_{L1} = ',round(tL1*10**3), 'ms')\n",
    "tL2 = sp.nsolve(eqVL2,t,(0,10),solver = 'bisect'); symdisp('t_{L2} = ',round(tL2*10**3), 'ms')\n",
    "\n"
   ]
  },
  {
   "cell_type": "markdown",
   "metadata": {},
   "source": [
    "# f)"
   ]
  },
  {
   "cell_type": "code",
   "execution_count": 127,
   "metadata": {},
   "outputs": [
    {
     "data": {
      "text/latex": [
       "$\\displaystyle v_L(t)=8.333 e^{- 69.333 t}\\;V$"
      ],
      "text/plain": [
       "<IPython.core.display.Math object>"
      ]
     },
     "metadata": {},
     "output_type": "display_data"
    },
    {
     "data": {
      "text/latex": [
       "$\\displaystyle p_L(t)=8.333 \\left(0.962 - 0.962 e^{- 69.333 t}\\right) e^{- 69.333 t}\\;W$"
      ],
      "text/plain": [
       "<IPython.core.display.Math object>"
      ]
     },
     "metadata": {},
     "output_type": "display_data"
    },
    {
     "data": {
      "text/latex": [
       "$\\displaystyle w_L(t) = 0.058 + 0.058 e^{- 138.667 t} - 0.116 e^{- 69.333 t}\\;J$"
      ],
      "text/plain": [
       "<IPython.core.display.Math object>"
      ]
     },
     "metadata": {},
     "output_type": "display_data"
    },
    {
     "data": {
      "text/latex": [
       "$\\displaystyle w_L(oo) = 57.785\\;mJ$"
      ],
      "text/plain": [
       "<IPython.core.display.Math object>"
      ]
     },
     "metadata": {},
     "output_type": "display_data"
    },
    {
     "data": {
      "text/latex": [
       "$\\displaystyle \\frac{w_L(oo)}{2} = 0.029\\;J$"
      ],
      "text/plain": [
       "<IPython.core.display.Math object>"
      ]
     },
     "metadata": {},
     "output_type": "display_data"
    },
    {
     "data": {
      "text/latex": [
       "$\\displaystyle t_{L} = 17.711\\;ms$"
      ],
      "text/plain": [
       "<IPython.core.display.Math object>"
      ]
     },
     "metadata": {},
     "output_type": "display_data"
    },
    {
     "data": {
      "image/png": "[encoded data removed]",
      "text/plain": [
       "<Figure size 432x288 with 1 Axes>"
      ]
     },
     "execution_count": 127,
     "metadata": {},
     "output_type": "execute_result"
    }
   ],
   "source": [
    "# tensão no indutor equivalente\n",
    "vL = Leq*sp.diff(iLt,t); symdisp('v_L(t)=',round_expr(vL,3),'V')\n",
    "#potencia no indutores\n",
    "pL = vL*iLt; symdisp('p_L(t)=',round_expr(pL,3),'W'); \n",
    "# Energia Final nos indutores\n",
    "wLt = sp.integrate(pL,(t,0,t)); symdisp('w_L(t) = ',round_expr(wLt.simplify(),3),'J')\n",
    "wL_final = sp.integrate(pL,(t,0,oo)); symdisp('w_L(oo) = ',round(wL_final*10**3,3),'mJ')\n",
    "symdisp('\\\\frac{w_L(oo)}{2} = ',round((wL_final/2),3),'J')\n",
    "\n",
    "eqwL = sp.Eq(wLt,wL_final/2)\n",
    "tL = sp.nsolve(eqwL,t,(0,1),solver = 'bisect'); symdisp('t_{L} = ',round(tL*10**3,3), 'ms')\n",
    "\n",
    "wLt_plot = sp.Piecewise((0,t<0),(round_expr(wLt,3), t>= 0))\n",
    "intervalo = np.linspace(-0.02,0.1, 1000)\n",
    "symplot(t,wLt_plot,intervalo,'$w_L(t)$[J]')"
   ]
  },
  {
   "cell_type": "markdown",
   "metadata": {},
   "source": [
    "# Questão 2"
   ]
  },
  {
   "cell_type": "markdown",
   "metadata": {},
   "source": [
    "# a)"
   ]
  },
  {
   "cell_type": "code",
   "execution_count": 128,
   "metadata": {},
   "outputs": [
    {
     "data": {
      "text/latex": [
       "$\\displaystyle R_a = 10.535\\;Ω$"
      ],
      "text/plain": [
       "<IPython.core.display.Math object>"
      ]
     },
     "metadata": {},
     "output_type": "display_data"
    },
    {
     "data": {
      "text/latex": [
       "$\\displaystyle R_b = 20\\;Ω$"
      ],
      "text/plain": [
       "<IPython.core.display.Math object>"
      ]
     },
     "metadata": {},
     "output_type": "display_data"
    },
    {
     "data": {
      "text/latex": [
       "$\\displaystyle R_c = 8.944\\;Ω$"
      ],
      "text/plain": [
       "<IPython.core.display.Math object>"
      ]
     },
     "metadata": {},
     "output_type": "display_data"
    },
    {
     "data": {
      "text/latex": [
       "$\\displaystyle i_L(0^+) = 327.491\\;mA$"
      ],
      "text/plain": [
       "<IPython.core.display.Math object>"
      ]
     },
     "metadata": {},
     "output_type": "display_data"
    },
    {
     "name": "stdout",
     "output_type": "stream",
     "text": [
      "A tensão no capacitor será a mesma tensão aplicada no resistor Rb, logo:\n"
     ]
    },
    {
     "data": {
      "text/latex": [
       "$\\displaystyle v_C(0^+) = v_{R_b}  = 6.55\\;V$"
      ],
      "text/plain": [
       "<IPython.core.display.Math object>"
      ]
     },
     "metadata": {},
     "output_type": "display_data"
    }
   ],
   "source": [
    "v = 10\n",
    "L = 200*10**-3\n",
    "c = 20*10**-6\n",
    "ra = sp.sqrt(3)*r1+sp.sqrt(2)*r2;symdisp('R_a = ',round(ra,3),'Ω')\n",
    "rb = 4*r2;                       symdisp('R_b = ',round(rb,3),'Ω')\n",
    "rc = 2*sp.sqrt(5)*r1;            symdisp('R_c = ',round(rc,3),'Ω')   \n",
    "i0 = 10/(ra+rb);                 symdisp('i_L(0^+) = ',round(i0*10**3,3),'mA')\n",
    "print('A tensão no capacitor será a mesma tensão aplicada no resistor Rb, logo:')\n",
    "vrb = i0*rb;                     symdisp('v_C(0^+) = v_{R_b}  = ',round(vrb,3),'V')"
   ]
  },
  {
   "cell_type": "markdown",
   "metadata": {},
   "source": [
    "# Itens: b) e c) RLC - Resposta Natural em Série"
   ]
  },
  {
   "cell_type": "code",
   "execution_count": 139,
   "metadata": {},
   "outputs": [
    {
     "name": "stdout",
     "output_type": "stream",
     "text": [
      "Fator de Amortecimento\n"
     ]
    },
    {
     "data": {
      "text/latex": [
       "$\\displaystyle α = 50.0\\;\\frac{rad}{s}$"
      ],
      "text/plain": [
       "<IPython.core.display.Math object>"
      ]
     },
     "metadata": {},
     "output_type": "display_data"
    },
    {
     "data": {
      "text/latex": [
       "$\\displaystyle α^2 = 2500.0\\;\\frac{rad}{s}$"
      ],
      "text/plain": [
       "<IPython.core.display.Math object>"
      ]
     },
     "metadata": {},
     "output_type": "display_data"
    },
    {
     "name": "stdout",
     "output_type": "stream",
     "text": [
      "Frequência de Ressonância\n"
     ]
    },
    {
     "data": {
      "text/latex": [
       "$\\displaystyle ω_o = 500.0\\;\\frac{rad}{s}$"
      ],
      "text/plain": [
       "<IPython.core.display.Math object>"
      ]
     },
     "metadata": {},
     "output_type": "display_data"
    },
    {
     "data": {
      "text/latex": [
       "$\\displaystyle ω_o^2 = 250000.0\\;\\frac{rad}{s}$"
      ],
      "text/plain": [
       "<IPython.core.display.Math object>"
      ]
     },
     "metadata": {},
     "output_type": "display_data"
    },
    {
     "name": "stdout",
     "output_type": "stream",
     "text": [
      "RESPOSTA SUBAMORTECIDA\n",
      "\n",
      "Forma geral da solução:\n"
     ]
    },
    {
     "data": {
      "text/latex": [
       "$\\displaystyle i_L(t) = - 0.06582 e^{- 50.0 t} \\sin{\\left(497.494 t \\right)}\\;A$"
      ],
      "text/plain": [
       "<IPython.core.display.Math object>"
      ]
     },
     "metadata": {},
     "output_type": "display_data"
    },
    {
     "data": {
      "image/png": "[encoded data removed]",
      "text/plain": [
       "<Figure size 432x288 with 1 Axes>"
      ]
     },
     "execution_count": 139,
     "metadata": {},
     "output_type": "execute_result"
    }
   ],
   "source": [
    "t0 = 0\n",
    "Rth = rb\n",
    "vth = vrb\n",
    "\n",
    "#Fator de amortecimento\n",
    "α = rb/(2*L);\n",
    "print('Fator de Amortecimento')\n",
    "symdisp('α = ',round(α,3),'\\\\frac{rad}{s}')\n",
    "symdisp('α^2 = ',round(α**2,3),'\\\\frac{rad}{s}')\n",
    "\n",
    "print('Frequência de Ressonância')\n",
    "ω = 1/sp.sqrt(L*c)\n",
    "symdisp('ω_o = ',round(ω,3),'\\\\frac{rad}{s}')\n",
    "symdisp('ω_o^2 = ',round(ω**2,3),'\\\\frac{rad}{s}')\n",
    "\n",
    "\n",
    "if α**2 > ω**2:\n",
    "    print('RESPOSTA SUPERAMORTECIDA')\n",
    "    s1 = -α + sp.sqrt(α**2 - ω**2)\n",
    "    s2 = -α - sp.sqrt(α**2 - ω**2)\n",
    "    A1, A2 = sp.symbols('A1 ,A2')\n",
    "    # expressão geral da resposta superamortecida\n",
    "    iL = A1*sp.exp(s1*(t-t0)) + A2*sp.exp(s2*(t-t0))\n",
    "    print('\\nForma geral da solução:')\n",
    "    symdisp('i_L(t) = ', round_expr(iL,3), 'A')\n",
    "\n",
    "elif α**2 < ω**2:\n",
    "    print('RESPOSTA SUBAMORTECIDA')\n",
    "    ωd = sp.sqrt(ω**2 - α**2 )\n",
    "    B1, B2 = sp.symbols('B1 ,B2')\n",
    "    B1 = i0\n",
    "    B2 = ((1/L)*(-Rth*i0 - vth)+(α*B1))/ωd\n",
    "    iL = sp.exp(-α*t)*(B1*sp.cos(ωd*t) + B2*sp.sin(ωd*t))\n",
    "    print('\\nForma geral da solução:')\n",
    "    symdisp('i_L(t) = ', round_expr(iL.simplify(),3), 'A')\n",
    "\n",
    "elif α**2 == ω**2:\n",
    "    print('RESPOSTA CRITICAMENTE AMORTECIDA')\n",
    "    D1, D2 = sp.symbols('D1 ,D2')\n",
    "    D2 = i0\n",
    "    D1 = ((1/L)*(-Rth*i0 - vth)+(α*D2))/ωd\n",
    "    iL = sp.exp(-α*t)*(D1*t + B2)\n",
    "    print('\\nForma geral da solução:')\n",
    "    symdisp('i_L(t) = ', round_expr(iL.simplify(),3), 'A')\n",
    "\n",
    "#tensão no capacitor 0<= t <= 1\n",
    "vct = (1/c)*sp.integrate(iL,(t,0,t))+vth\n",
    "\n",
    "iL_plot  = sp.Piecewise((i0,t<=0),(round_expr(iL.simplify(),3), t<1))\n",
    "vct_plot = sp.Piecewise((vth,t<=0),(round_expr(vct.simplify(),3), t<1))\n",
    "\n",
    "intervalo = np.linspace(-0.02,0.1, 1000)\n",
    "symplot(t,[iL_plot,vct_plot],intervalo,['$i_L(t)$[A]','$v_C(t)$[V]'])\n",
    "\n"
   ]
  },
  {
   "cell_type": "markdown",
   "metadata": {},
   "source": [
    "# d)"
   ]
  },
  {
   "cell_type": "code",
   "execution_count": 130,
   "metadata": {},
   "outputs": [
    {
     "name": "stdout",
     "output_type": "stream",
     "text": [
      "Fator de Amortecimento\n"
     ]
    },
    {
     "data": {
      "text/latex": [
       "$\\displaystyle α = 50.0\\;\\frac{rad}{s}$"
      ],
      "text/plain": [
       "<IPython.core.display.Math object>"
      ]
     },
     "metadata": {},
     "output_type": "display_data"
    },
    {
     "data": {
      "text/latex": [
       "$\\displaystyle α^2 = 2500.0\\;\\frac{rad}{s}$"
      ],
      "text/plain": [
       "<IPython.core.display.Math object>"
      ]
     },
     "metadata": {},
     "output_type": "display_data"
    },
    {
     "name": "stdout",
     "output_type": "stream",
     "text": [
      "Frequência de Ressonância\n"
     ]
    },
    {
     "data": {
      "text/latex": [
       "$\\displaystyle ω_o = 500.0\\;\\frac{rad}{s}$"
      ],
      "text/plain": [
       "<IPython.core.display.Math object>"
      ]
     },
     "metadata": {},
     "output_type": "display_data"
    },
    {
     "data": {
      "text/latex": [
       "$\\displaystyle ω_o^2 = 250000.0\\;\\frac{rad}{s}$"
      ],
      "text/plain": [
       "<IPython.core.display.Math object>"
      ]
     },
     "metadata": {},
     "output_type": "display_data"
    },
    {
     "name": "stdout",
     "output_type": "stream",
     "text": [
      "RESPOSTA SUBAMORTECIDA\n",
      "\n",
      "Forma geral da solução:\n"
     ]
    },
    {
     "data": {
      "text/latex": [
       "$\\displaystyle i_L(t) = 0\\;A$"
      ],
      "text/plain": [
       "<IPython.core.display.Math object>"
      ]
     },
     "metadata": {},
     "output_type": "display_data"
    },
    {
     "data": {
      "text/latex": [
       "$\\displaystyle i_L(t) = 0\\;A$"
      ],
      "text/plain": [
       "<IPython.core.display.Math object>"
      ]
     },
     "metadata": {},
     "output_type": "display_data"
    },
    {
     "data": {
      "text/latex": [
       "$\\displaystyle v_C(t) = 0\\;V$"
      ],
      "text/plain": [
       "<IPython.core.display.Math object>"
      ]
     },
     "metadata": {},
     "output_type": "display_data"
    },
    {
     "data": {
      "image/png": "[encoded data removed]",
      "text/plain": [
       "<Figure size 432x288 with 1 Axes>"
      ]
     },
     "execution_count": 130,
     "metadata": {},
     "output_type": "execute_result"
    }
   ],
   "source": [
    "t0 = 0\n",
    "Rth = (rb*rc)/(rb+rc)\n",
    "vth = 0\n",
    "i0 = 0\n",
    "\n",
    "#Fator de amortecimento\n",
    "α = rb/(2*L);\n",
    "print('Fator de Amortecimento')\n",
    "symdisp('α = ',round(α,3),'\\\\frac{rad}{s}')\n",
    "symdisp('α^2 = ',round(α**2,3),'\\\\frac{rad}{s}')\n",
    "\n",
    "print('Frequência de Ressonância')\n",
    "ω = 1/sp.sqrt(L*c)\n",
    "symdisp('ω_o = ',round(ω,3),'\\\\frac{rad}{s}')\n",
    "symdisp('ω_o^2 = ',round(ω**2,3),'\\\\frac{rad}{s}')\n",
    "\n",
    "\n",
    "if α**2 > ω**2:\n",
    "    print('RESPOSTA SUPERAMORTECIDA')\n",
    "    s1 = -α + sp.sqrt(α**2 - ω**2)\n",
    "    s2 = -α - sp.sqrt(α**2 - ω**2)\n",
    "    A1, A2 = sp.symbols('A1 ,A2')\n",
    "    # expressão geral da resposta superamortecida\n",
    "    iL = A1*sp.exp(s1*(t-t0)) + A2*sp.exp(s2*(t-t0))\n",
    "    print('\\nForma geral da solução:')\n",
    "    symdisp('i_L(t) = ', round_expr(iL,3), 'A')\n",
    "\n",
    "elif α**2 < ω**2:\n",
    "    print('RESPOSTA SUBAMORTECIDA')\n",
    "    ωd = sp.sqrt(ω**2 - α**2 )\n",
    "    B1, B2 = sp.symbols('B1 ,B2')\n",
    "    B1 = i0\n",
    "    B2 = ((1/L)*(-Rth*i0 - vth)+(α*B1))/ωd\n",
    "    iL = sp.exp(-α*t)*(B1*sp.cos(ωd*t) + B2*sp.sin(ωd*t))\n",
    "    print('\\nForma geral da solução:')\n",
    "    symdisp('i_L(t) = ', round_expr(iL.simplify(),3), 'A')\n",
    "\n",
    "elif α**2 == ω**2:\n",
    "    print('RESPOSTA CRITICAMENTE AMORTECIDA')\n",
    "    D1, D2 = sp.symbols('D1 ,D2')\n",
    "    D2 = i0\n",
    "    D1 = ((1/L)*(-Rth*i0 - vth)+(α*D2))/ωd\n",
    "    iL = sp.exp(-α*t)*(D1*t + B2)\n",
    "    print('\\nForma geral da solução:')\n",
    "    symdisp('i_L(t) = ', round_expr(iL.simplify(),3), 'A')\n",
    "\n",
    "#tensão no capacitor 0<= t <= 1\n",
    "vct = (1/c)*sp.integrate(iL,(t,0,t))+vth\n",
    "\n",
    "iL_plot  = sp.Piecewise((i0,t<=0),(round_expr(iL.simplify(),3), t<1))\n",
    "symdisp('i_L(t) = ',round_expr(iL_plot.simplify(),2),'A')\n",
    "\n",
    "vct_plot = sp.Piecewise((vth,t<=0),(round_expr(vct.simplify(),3), t<1))\n",
    "symdisp('v_C(t) = ',round_expr(vct_plot.simplify(),2),'V')\n",
    "\n",
    "\n",
    "intervalo = np.linspace(-0.05,0.5, 1000)\n",
    "symplot(t,[iL_plot,vct_plot],intervalo,['$i_L(t)$[A]','$v_C(t)$[V]'])\n",
    "\n"
   ]
  }
 ],
 "metadata": {
  "interpreter": {
   "hash": "c447c3cb8524a32dffcb5b7dc5949d51da75a9fa8c9e67fdc0a3ad2d0514cf36"
  },
  "kernelspec": {
   "display_name": "Python 3.10.0 64-bit",
   "language": "python",
   "name": "python3"
  },
  "language_info": {
   "codemirror_mode": {
    "name": "ipython",
    "version": 3
   },
   "file_extension": ".py",
   "mimetype": "text/x-python",
   "name": "python",
   "nbconvert_exporter": "python",
   "pygments_lexer": "ipython3",
   "version": "3.10.0"
  },
  "orig_nbformat": 4
 },
 "nbformat": 4,
 "nbformat_minor": 2
}
