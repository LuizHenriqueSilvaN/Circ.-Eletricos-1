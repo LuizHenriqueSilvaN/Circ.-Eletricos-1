{
 "cells": [
  {
   "cell_type": "markdown",
   "id": "590239a8",
   "metadata": {},
   "source": [
    "Luiz Henrique Silva do Nascimento - 119210814\n",
    "\n",
    "Circuitos elétricos 1 - 2021.1e\n",
    "\n",
    "Lista de Exercícios 1 - Data 26/11/2021"
   ]
  },
  {
   "cell_type": "markdown",
   "id": "39ed1551",
   "metadata": {},
   "source": [
    "Problemas:"
   ]
  },
  {
   "cell_type": "code",
   "execution_count": 90,
   "id": "2d94ebbd",
   "metadata": {},
   "outputs": [],
   "source": [
    "import sympy as sp\n",
    "import numpy as np\n",
    "from sympy import *"
   ]
  },
  {
   "cell_type": "markdown",
   "id": "7a72e381",
   "metadata": {},
   "source": [
    "# o1)"
   ]
  },
  {
   "cell_type": "markdown",
   "id": "2946e873",
   "metadata": {},
   "source": [
    "Elemento zero"
   ]
  },
  {
   "cell_type": "code",
   "execution_count": 26,
   "id": "1deb1718",
   "metadata": {},
   "outputs": [
    {
     "data": {
      "text/latex": [
       "$\\displaystyle p=-vi$"
      ],
      "text/plain": [
       "p=-vi"
      ]
     },
     "execution_count": 26,
     "metadata": {},
     "output_type": "execute_result"
    }
   ],
   "source": [
    "p = sp.symbols('p=-vi')\n",
    "p.expand()"
   ]
  },
  {
   "cell_type": "markdown",
   "id": "db66d210",
   "metadata": {},
   "source": [
    "Elemento um"
   ]
  },
  {
   "cell_type": "code",
   "execution_count": 27,
   "id": "d18cb02a",
   "metadata": {},
   "outputs": [
    {
     "data": {
      "text/latex": [
       "$\\displaystyle p=-vi$"
      ],
      "text/plain": [
       "p=-vi"
      ]
     },
     "execution_count": 27,
     "metadata": {},
     "output_type": "execute_result"
    }
   ],
   "source": [
    "p = sp.symbols('p=-vi')\n",
    "p.expand()"
   ]
  },
  {
   "cell_type": "markdown",
   "id": "74690442",
   "metadata": {},
   "source": [
    "Elemento dois"
   ]
  },
  {
   "cell_type": "code",
   "execution_count": 28,
   "id": "0c7ccbe5",
   "metadata": {},
   "outputs": [
    {
     "data": {
      "text/latex": [
       "$\\displaystyle p=-vi$"
      ],
      "text/plain": [
       "p=-vi"
      ]
     },
     "execution_count": 28,
     "metadata": {},
     "output_type": "execute_result"
    }
   ],
   "source": [
    "p = sp.symbols('p=-vi')\n",
    "p.expand()"
   ]
  },
  {
   "cell_type": "markdown",
   "id": "cccf39ed",
   "metadata": {},
   "source": [
    "Elemento três"
   ]
  },
  {
   "cell_type": "code",
   "execution_count": 29,
   "id": "d8ea8a40",
   "metadata": {},
   "outputs": [
    {
     "data": {
      "text/latex": [
       "$\\displaystyle p=-vi$"
      ],
      "text/plain": [
       "p=-vi"
      ]
     },
     "execution_count": 29,
     "metadata": {},
     "output_type": "execute_result"
    }
   ],
   "source": [
    "p = sp.symbols('p=-vi')\n",
    "p.expand()"
   ]
  },
  {
   "cell_type": "markdown",
   "id": "ce7f3082",
   "metadata": {},
   "source": [
    "Elemento quatro"
   ]
  },
  {
   "cell_type": "code",
   "execution_count": 30,
   "id": "e07ec751",
   "metadata": {},
   "outputs": [
    {
     "data": {
      "text/latex": [
       "$\\displaystyle p=vi$"
      ],
      "text/plain": [
       "p=vi"
      ]
     },
     "execution_count": 30,
     "metadata": {},
     "output_type": "execute_result"
    }
   ],
   "source": [
    "p = sp.symbols('p=vi')\n",
    "p.expand()"
   ]
  },
  {
   "cell_type": "markdown",
   "id": "a8784021",
   "metadata": {},
   "source": [
    "# 02)"
   ]
  },
  {
   "cell_type": "markdown",
   "id": "010ddf31",
   "metadata": {},
   "source": [
    "Elemento Zero"
   ]
  },
  {
   "cell_type": "code",
   "execution_count": 54,
   "id": "2a7c8c5d",
   "metadata": {},
   "outputs": [
    {
     "name": "stdout",
     "output_type": "stream",
     "text": [
      "p0 = -1.75 W Fornecendo Energia\n"
     ]
    }
   ],
   "source": [
    "v=-5\n",
    "i=-0.35\n",
    "p0=-v*i\n",
    "print('p0 =',p0,'W','Fornecendo Energia')"
   ]
  },
  {
   "cell_type": "markdown",
   "id": "f7a6d650",
   "metadata": {},
   "source": [
    "Elemento um"
   ]
  },
  {
   "cell_type": "code",
   "execution_count": 56,
   "id": "74bc7b82",
   "metadata": {},
   "outputs": [
    {
     "name": "stdout",
     "output_type": "stream",
     "text": [
      "p1 = 2.4499999999999997 W  Consumindo Energia\n"
     ]
    }
   ],
   "source": [
    "v=-7\n",
    "i=0.35\n",
    "p1=-v*i\n",
    "print('p1 =',p1,'W',' Consumindo Energia')"
   ]
  },
  {
   "cell_type": "markdown",
   "id": "bda608cf",
   "metadata": {},
   "source": [
    "Elemento dois"
   ]
  },
  {
   "cell_type": "code",
   "execution_count": 57,
   "id": "dafe2672",
   "metadata": {},
   "outputs": [
    {
     "name": "stdout",
     "output_type": "stream",
     "text": [
      "p2 = 0.2 W  Consumindo Energia\n"
     ]
    }
   ],
   "source": [
    "v=2\n",
    "i=-0.10\n",
    "p2=-v*i\n",
    "print('p2 =',p2,'W', ' Consumindo Energia')"
   ]
  },
  {
   "cell_type": "markdown",
   "id": "2923fd12",
   "metadata": {},
   "source": [
    "Elemento três"
   ]
  },
  {
   "cell_type": "code",
   "execution_count": 58,
   "id": "f6310f7c",
   "metadata": {},
   "outputs": [
    {
     "name": "stdout",
     "output_type": "stream",
     "text": [
      "p3 = 8.1 W  Consumindo Energia\n"
     ]
    }
   ],
   "source": [
    "v=18\n",
    "i=-0.45\n",
    "p3=-v*i\n",
    "print('p3 =',p3,'W', ' Consumindo Energia')"
   ]
  },
  {
   "cell_type": "markdown",
   "id": "baec75c3",
   "metadata": {},
   "source": [
    "Elemento quatro"
   ]
  },
  {
   "cell_type": "code",
   "execution_count": 55,
   "id": "3b7d6678",
   "metadata": {},
   "outputs": [
    {
     "name": "stdout",
     "output_type": "stream",
     "text": [
      "p4 = -9.0 W Fornecendo Energia\n"
     ]
    }
   ],
   "source": [
    "v=20\n",
    "i=-0.45\n",
    "p4=v*i\n",
    "print('p4 =',p4,'W','Fornecendo Energia')"
   ]
  },
  {
   "cell_type": "markdown",
   "id": "60169eb4",
   "metadata": {},
   "source": [
    "Somatoria das potências"
   ]
  },
  {
   "cell_type": "code",
   "execution_count": 52,
   "id": "87479449",
   "metadata": {},
   "outputs": [
    {
     "name": "stdout",
     "output_type": "stream",
     "text": [
      "0.0\n"
     ]
    }
   ],
   "source": [
    "p = p0+p1+p2+p3+p4\n",
    "print(p)"
   ]
  },
  {
   "cell_type": "markdown",
   "id": "7100acf1",
   "metadata": {},
   "source": [
    "# 03)"
   ]
  },
  {
   "cell_type": "markdown",
   "id": "67732e20",
   "metadata": {},
   "source": [
    "A) Convensão passiva do Sinal:"
   ]
  },
  {
   "cell_type": "code",
   "execution_count": 59,
   "id": "86c0678a",
   "metadata": {},
   "outputs": [
    {
     "data": {
      "text/latex": [
       "$\\displaystyle p=vi$"
      ],
      "text/plain": [
       "p=vi"
      ]
     },
     "execution_count": 59,
     "metadata": {},
     "output_type": "execute_result"
    }
   ],
   "source": [
    "p = sp.symbols('p=vi')\n",
    "p.expand()"
   ]
  },
  {
   "cell_type": "code",
   "execution_count": 76,
   "id": "ef984c3a",
   "metadata": {},
   "outputs": [
    {
     "data": {
      "text/latex": [
       "$\\displaystyle 10 t^{2} e^{- t} - 10 t^{2} e^{- 2 t}$"
      ],
      "text/plain": [
       "10*t**2*exp(-t) - 10*t**2*exp(-2*t)"
      ]
     },
     "execution_count": 76,
     "metadata": {},
     "output_type": "execute_result"
    }
   ],
   "source": [
    "t = sp.symbols('t')\n",
    "v = 10*t**2*sp.exp(-t)\n",
    "i = (1-sp.exp(-t))\n",
    "p = (v*i)\n",
    "p.expand()"
   ]
  },
  {
   "cell_type": "markdown",
   "id": "d0f30418",
   "metadata": {},
   "source": [
    "Primeira derivada"
   ]
  },
  {
   "cell_type": "code",
   "execution_count": 79,
   "id": "fef6956c",
   "metadata": {},
   "outputs": [
    {
     "data": {
      "text/latex": [
       "$\\displaystyle - 10 t \\left(t e^{t} - 2 t - 2 e^{t} + 2\\right) e^{- 2 t}$"
      ],
      "text/plain": [
       "-10*t*(t*exp(t) - 2*t - 2*exp(t) + 2)*exp(-2*t)"
      ]
     },
     "execution_count": 79,
     "metadata": {},
     "output_type": "execute_result"
    }
   ],
   "source": [
    "difp = sp.diff(p,t)\n",
    "difp.factor()"
   ]
  },
  {
   "cell_type": "markdown",
   "id": "7fb7f0e9",
   "metadata": {},
   "source": [
    "Raiz desta derivada:"
   ]
  },
  {
   "cell_type": "code",
   "execution_count": 82,
   "id": "50ae9869",
   "metadata": {},
   "outputs": [
    {
     "name": "stdout",
     "output_type": "stream",
     "text": [
      "Raiz =  2.26281012919691\n"
     ]
    }
   ],
   "source": [
    "sq = sp.nsolve(difp,t,(1,6), solver = 'bisect')\n",
    "print('Raiz = ',sq)"
   ]
  },
  {
   "cell_type": "markdown",
   "id": "9a33087d",
   "metadata": {},
   "source": [
    "Temos o instante de maior potência: t = ~ 2,26 s"
   ]
  },
  {
   "cell_type": "markdown",
   "id": "f780dc3a",
   "metadata": {},
   "source": [
    "Agora aplicamos o tempo na função de potencia para sabermos o maior valor de potência"
   ]
  },
  {
   "cell_type": "code",
   "execution_count": 85,
   "id": "671cfd70",
   "metadata": {},
   "outputs": [
    {
     "name": "stdout",
     "output_type": "stream",
     "text": [
      "4.77363758643929\n"
     ]
    }
   ],
   "source": [
    "p = (10*2.26**2*sp.exp(-2.26))*(1-sp.exp(-2.26))\n",
    "print(p)"
   ]
  },
  {
   "cell_type": "markdown",
   "id": "afddc4f0",
   "metadata": {},
   "source": [
    "Potencia Máxima: p = ~ 4,77W"
   ]
  },
  {
   "cell_type": "markdown",
   "id": "1b49d1ca",
   "metadata": {},
   "source": [
    "B) Energia entregueao elemento entre t = 2s e t=4s."
   ]
  },
  {
   "cell_type": "code",
   "execution_count": 88,
   "id": "f84ba77b",
   "metadata": {},
   "outputs": [
    {
     "data": {
      "text/latex": [
       "$\\displaystyle \\int\\limits_{2}^{4} 10 t^{2} \\left(1 - e^{- t}\\right) e^{- t}\\, dt = - \\frac{585}{2 e^{4}} + \\frac{205}{2 e^{8}} + \\frac{100}{e^{2}}$"
      ],
      "text/plain": [
       "Eq(Integral(10*t**2*(1 - exp(-t))*exp(-t), (t, 2, 4)), -585*exp(-4)/2 + 205*exp(-8)/2 + 100*exp(-2))"
      ]
     },
     "execution_count": 88,
     "metadata": {},
     "output_type": "execute_result"
    }
   ],
   "source": [
    "t = sp.symbols('t')\n",
    "v = 10*t**2*sp.exp(-t)\n",
    "i = (1-sp.exp(-t))\n",
    "p = (v*i)\n",
    "w = sp.Integral(p,(t,2,4))\n",
    "sp.Eq(w,w.doit())"
   ]
  },
  {
   "cell_type": "code",
   "execution_count": 102,
   "id": "84adcd12",
   "metadata": {},
   "outputs": [
    {
     "data": {
      "text/latex": [
       "$\\displaystyle e$"
      ],
      "text/plain": [
       "E"
      ]
     },
     "execution_count": 102,
     "metadata": {},
     "output_type": "execute_result"
    }
   ],
   "source": [
    "exp(1)"
   ]
  },
  {
   "cell_type": "code",
   "execution_count": 113,
   "id": "0d98393b",
   "metadata": {},
   "outputs": [],
   "source": [
    "a = N(Out[102])"
   ]
  },
  {
   "cell_type": "code",
   "execution_count": 112,
   "id": "9f7c429d",
   "metadata": {},
   "outputs": [
    {
     "name": "stdout",
     "output_type": "stream",
     "text": [
      "Energia: w =  8.21058886806653 J\n"
     ]
    }
   ],
   "source": [
    "w = (-585/(2*a**4))+(205/(2*a**8))+(100/(a**2))\n",
    "print('Energia: w = ',w,'J')"
   ]
  },
  {
   "cell_type": "markdown",
   "id": "19b5e772",
   "metadata": {},
   "source": [
    "C) Energia entregueao elemento entre t = 0s e t = +inf."
   ]
  },
  {
   "cell_type": "code",
   "execution_count": 116,
   "id": "60a2a2fe",
   "metadata": {},
   "outputs": [
    {
     "data": {
      "text/latex": [
       "$\\displaystyle \\int\\limits_{0}^{\\infty} 10 t^{2} \\left(1 - e^{- t}\\right) e^{- t}\\, dt = \\frac{35}{2}$"
      ],
      "text/plain": [
       "Eq(Integral(10*t**2*(1 - exp(-t))*exp(-t), (t, 0, oo)), 35/2)"
      ]
     },
     "execution_count": 116,
     "metadata": {},
     "output_type": "execute_result"
    }
   ],
   "source": [
    "t = sp.symbols('t')\n",
    "v = 10*t**2*sp.exp(-t)\n",
    "i = (1-sp.exp(-t))\n",
    "p = (v*i)\n",
    "w = sp.Integral(p,(t,0,sp.oo))\n",
    "sp.Eq(w,w.doit())"
   ]
  },
  {
   "cell_type": "markdown",
   "id": "cc0d57f1",
   "metadata": {},
   "source": [
    "Energia : w = 17.5 J"
   ]
  }
 ],
 "metadata": {
  "kernelspec": {
   "display_name": "Python 3",
   "language": "python",
   "name": "python3"
  },
  "language_info": {
   "codemirror_mode": {
    "name": "ipython",
    "version": 3
   },
   "file_extension": ".py",
   "mimetype": "text/x-python",
   "name": "python",
   "nbconvert_exporter": "python",
   "pygments_lexer": "ipython3",
   "version": "3.8.8"
  }
 },
 "nbformat": 4,
 "nbformat_minor": 5
}
