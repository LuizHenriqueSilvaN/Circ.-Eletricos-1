{
 "cells": [
  {
   "cell_type": "markdown",
   "id": "234225ca",
   "metadata": {},
   "source": [
    "Luiz Henrique Silva do Nascimento - 119210814\n",
    "\n",
    "Circuitos elétricos 1 - 2021.1e\n",
    "\n",
    "Lista de Exercícios 1 - Data 26/11/2021"
   ]
  },
  {
   "cell_type": "markdown",
   "id": "1fed608e",
   "metadata": {},
   "source": [
    "Problemas:"
   ]
  },
  {
   "cell_type": "code",
   "execution_count": 90,
   "id": "373ffcac",
   "metadata": {},
   "outputs": [],
   "source": [
    "import sympy as sp\n",
    "import numpy as np\n",
    "from sympy import *"
   ]
  },
  {
   "cell_type": "markdown",
   "id": "e67ba2ea",
   "metadata": {},
   "source": [
    "# o1)"
   ]
  },
  {
   "cell_type": "markdown",
   "id": "015ff7fc",
   "metadata": {},
   "source": [
    "Elemento zero"
   ]
  },
  {
   "cell_type": "code",
   "execution_count": 26,
   "id": "f903435f",
   "metadata": {},
   "outputs": [
    {
     "data": {
      "text/latex": [
       "$\\displaystyle p=-vi$"
      ],
      "text/plain": [
       "p=-vi"
      ]
     },
     "execution_count": 26,
     "metadata": {},
     "output_type": "execute_result"
    }
   ],
   "source": [
    "p = sp.symbols('p=-vi')\n",
    "p.expand()"
   ]
  },
  {
   "cell_type": "markdown",
   "id": "adb366b0",
   "metadata": {},
   "source": [
    "Elemento um"
   ]
  },
  {
   "cell_type": "code",
   "execution_count": 27,
   "id": "f7a80737",
   "metadata": {},
   "outputs": [
    {
     "data": {
      "text/latex": [
       "$\\displaystyle p=-vi$"
      ],
      "text/plain": [
       "p=-vi"
      ]
     },
     "execution_count": 27,
     "metadata": {},
     "output_type": "execute_result"
    }
   ],
   "source": [
    "p = sp.symbols('p=-vi')\n",
    "p.expand()"
   ]
  },
  {
   "cell_type": "markdown",
   "id": "5456075c",
   "metadata": {},
   "source": [
    "Elemento dois"
   ]
  },
  {
   "cell_type": "code",
   "execution_count": 28,
   "id": "c04aef0b",
   "metadata": {},
   "outputs": [
    {
     "data": {
      "text/latex": [
       "$\\displaystyle p=-vi$"
      ],
      "text/plain": [
       "p=-vi"
      ]
     },
     "execution_count": 28,
     "metadata": {},
     "output_type": "execute_result"
    }
   ],
   "source": [
    "p = sp.symbols('p=-vi')\n",
    "p.expand()"
   ]
  },
  {
   "cell_type": "markdown",
   "id": "cbb717d7",
   "metadata": {},
   "source": [
    "Elemento três"
   ]
  },
  {
   "cell_type": "code",
   "execution_count": 29,
   "id": "72451a3f",
   "metadata": {},
   "outputs": [
    {
     "data": {
      "text/latex": [
       "$\\displaystyle p=-vi$"
      ],
      "text/plain": [
       "p=-vi"
      ]
     },
     "execution_count": 29,
     "metadata": {},
     "output_type": "execute_result"
    }
   ],
   "source": [
    "p = sp.symbols('p=-vi')\n",
    "p.expand()"
   ]
  },
  {
   "cell_type": "markdown",
   "id": "d6c6c68d",
   "metadata": {},
   "source": [
    "Elemento quatro"
   ]
  },
  {
   "cell_type": "code",
   "execution_count": 30,
   "id": "303dc488",
   "metadata": {},
   "outputs": [
    {
     "data": {
      "text/latex": [
       "$\\displaystyle p=vi$"
      ],
      "text/plain": [
       "p=vi"
      ]
     },
     "execution_count": 30,
     "metadata": {},
     "output_type": "execute_result"
    }
   ],
   "source": [
    "p = sp.symbols('p=vi')\n",
    "p.expand()"
   ]
  },
  {
   "cell_type": "markdown",
   "id": "874239b1",
   "metadata": {},
   "source": [
    "# 02)"
   ]
  },
  {
   "cell_type": "markdown",
   "id": "d7b7de2e",
   "metadata": {},
   "source": [
    "Elemento Zero"
   ]
  },
  {
   "cell_type": "code",
   "execution_count": 54,
   "id": "3ac3f14a",
   "metadata": {},
   "outputs": [
    {
     "name": "stdout",
     "output_type": "stream",
     "text": [
      "p0 = -1.75 W Fornecendo Energia\n"
     ]
    }
   ],
   "source": [
    "v=-5\n",
    "i=-0.35\n",
    "p0=-v*i\n",
    "print('p0 =',p0,'W','Fornecendo Energia')"
   ]
  },
  {
   "cell_type": "markdown",
   "id": "17baf895",
   "metadata": {},
   "source": [
    "Elemento um"
   ]
  },
  {
   "cell_type": "code",
   "execution_count": 56,
   "id": "2832b493",
   "metadata": {},
   "outputs": [
    {
     "name": "stdout",
     "output_type": "stream",
     "text": [
      "p1 = 2.4499999999999997 W  Consumindo Energia\n"
     ]
    }
   ],
   "source": [
    "v=-7\n",
    "i=0.35\n",
    "p1=-v*i\n",
    "print('p1 =',p1,'W',' Consumindo Energia')"
   ]
  },
  {
   "cell_type": "markdown",
   "id": "4c605e66",
   "metadata": {},
   "source": [
    "Elemento dois"
   ]
  },
  {
   "cell_type": "code",
   "execution_count": 57,
   "id": "e36b9cd1",
   "metadata": {},
   "outputs": [
    {
     "name": "stdout",
     "output_type": "stream",
     "text": [
      "p2 = 0.2 W  Consumindo Energia\n"
     ]
    }
   ],
   "source": [
    "v=2\n",
    "i=-0.10\n",
    "p2=-v*i\n",
    "print('p2 =',p2,'W', ' Consumindo Energia')"
   ]
  },
  {
   "cell_type": "markdown",
   "id": "7805d4e9",
   "metadata": {},
   "source": [
    "Elemento três"
   ]
  },
  {
   "cell_type": "code",
   "execution_count": 58,
   "id": "f1de1acd",
   "metadata": {},
   "outputs": [
    {
     "name": "stdout",
     "output_type": "stream",
     "text": [
      "p3 = 8.1 W  Consumindo Energia\n"
     ]
    }
   ],
   "source": [
    "v=18\n",
    "i=-0.45\n",
    "p3=-v*i\n",
    "print('p3 =',p3,'W', ' Consumindo Energia')"
   ]
  },
  {
   "cell_type": "markdown",
   "id": "849f0851",
   "metadata": {},
   "source": [
    "Elemento quatro"
   ]
  },
  {
   "cell_type": "code",
   "execution_count": 55,
   "id": "5d66ce02",
   "metadata": {},
   "outputs": [
    {
     "name": "stdout",
     "output_type": "stream",
     "text": [
      "p4 = -9.0 W Fornecendo Energia\n"
     ]
    }
   ],
   "source": [
    "v=20\n",
    "i=-0.45\n",
    "p4=v*i\n",
    "print('p4 =',p4,'W','Fornecendo Energia')"
   ]
  },
  {
   "cell_type": "markdown",
   "id": "1051137f",
   "metadata": {},
   "source": [
    "Somatoria das potências"
   ]
  },
  {
   "cell_type": "code",
   "execution_count": 52,
   "id": "8916d9ce",
   "metadata": {},
   "outputs": [
    {
     "name": "stdout",
     "output_type": "stream",
     "text": [
      "0.0\n"
     ]
    }
   ],
   "source": [
    "p = p0+p1+p2+p3+p4\n",
    "print(p)"
   ]
  },
  {
   "cell_type": "markdown",
   "id": "a98698c4",
   "metadata": {},
   "source": [
    "# 03)"
   ]
  },
  {
   "cell_type": "markdown",
   "id": "d8d4f387",
   "metadata": {},
   "source": [
    "A) Convensão passiva do Sinal:"
   ]
  },
  {
   "cell_type": "code",
   "execution_count": 59,
   "id": "6c8b95bc",
   "metadata": {},
   "outputs": [
    {
     "data": {
      "text/latex": [
       "$\\displaystyle p=vi$"
      ],
      "text/plain": [
       "p=vi"
      ]
     },
     "execution_count": 59,
     "metadata": {},
     "output_type": "execute_result"
    }
   ],
   "source": [
    "p = sp.symbols('p=vi')\n",
    "p.expand()"
   ]
  },
  {
   "cell_type": "code",
   "execution_count": 76,
   "id": "a8e4678b",
   "metadata": {},
   "outputs": [
    {
     "data": {
      "text/latex": [
       "$\\displaystyle 10 t^{2} e^{- t} - 10 t^{2} e^{- 2 t}$"
      ],
      "text/plain": [
       "10*t**2*exp(-t) - 10*t**2*exp(-2*t)"
      ]
     },
     "execution_count": 76,
     "metadata": {},
     "output_type": "execute_result"
    }
   ],
   "source": [
    "t = sp.symbols('t')\n",
    "v = 10*t**2*sp.exp(-t)\n",
    "i = (1-sp.exp(-t))\n",
    "p = (v*i)\n",
    "p.expand()"
   ]
  },
  {
   "cell_type": "markdown",
   "id": "34d8c381",
   "metadata": {},
   "source": [
    "Primeira derivada"
   ]
  },
  {
   "cell_type": "code",
   "execution_count": 79,
   "id": "a98c940f",
   "metadata": {},
   "outputs": [
    {
     "data": {
      "text/latex": [
       "$\\displaystyle - 10 t \\left(t e^{t} - 2 t - 2 e^{t} + 2\\right) e^{- 2 t}$"
      ],
      "text/plain": [
       "-10*t*(t*exp(t) - 2*t - 2*exp(t) + 2)*exp(-2*t)"
      ]
     },
     "execution_count": 79,
     "metadata": {},
     "output_type": "execute_result"
    }
   ],
   "source": [
    "difp = sp.diff(p,t)\n",
    "difp.factor()"
   ]
  },
  {
   "cell_type": "markdown",
   "id": "9b4c5a6f",
   "metadata": {},
   "source": [
    "Raiz desta derivada:"
   ]
  },
  {
   "cell_type": "code",
   "execution_count": 82,
   "id": "a0100de6",
   "metadata": {},
   "outputs": [
    {
     "name": "stdout",
     "output_type": "stream",
     "text": [
      "Raiz =  2.26281012919691\n"
     ]
    }
   ],
   "source": [
    "sq = sp.nsolve(difp,t,(1,6), solver = 'bisect')\n",
    "print('Raiz = ',sq)"
   ]
  },
  {
   "cell_type": "markdown",
   "id": "b87cd7f4",
   "metadata": {},
   "source": [
    "Temos o instante de maior potência: t = ~ 2,26 s"
   ]
  },
  {
   "cell_type": "markdown",
   "id": "38b2727c",
   "metadata": {},
   "source": [
    "Agora aplicamos o tempo na função de potencia para sabermos o maior valor de potência"
   ]
  },
  {
   "cell_type": "code",
   "execution_count": 85,
   "id": "5bf4e30e",
   "metadata": {},
   "outputs": [
    {
     "name": "stdout",
     "output_type": "stream",
     "text": [
      "4.77363758643929\n"
     ]
    }
   ],
   "source": [
    "p = (10*2.26**2*sp.exp(-2.26))*(1-sp.exp(-2.26))\n",
    "print(p)"
   ]
  },
  {
   "cell_type": "markdown",
   "id": "f86b25d6",
   "metadata": {},
   "source": [
    "Potencia Máxima: p = ~ 4,77W"
   ]
  },
  {
   "cell_type": "markdown",
   "id": "ffd7fffc",
   "metadata": {},
   "source": [
    "B) Energia entregueao elemento entre t = 2s e t=4s."
   ]
  },
  {
   "cell_type": "code",
   "execution_count": 88,
   "id": "675ee8c7",
   "metadata": {},
   "outputs": [
    {
     "data": {
      "text/latex": [
       "$\\displaystyle \\int\\limits_{2}^{4} 10 t^{2} \\left(1 - e^{- t}\\right) e^{- t}\\, dt = - \\frac{585}{2 e^{4}} + \\frac{205}{2 e^{8}} + \\frac{100}{e^{2}}$"
      ],
      "text/plain": [
       "Eq(Integral(10*t**2*(1 - exp(-t))*exp(-t), (t, 2, 4)), -585*exp(-4)/2 + 205*exp(-8)/2 + 100*exp(-2))"
      ]
     },
     "execution_count": 88,
     "metadata": {},
     "output_type": "execute_result"
    }
   ],
   "source": [
    "t = sp.symbols('t')\n",
    "v = 10*t**2*sp.exp(-t)\n",
    "i = (1-sp.exp(-t))\n",
    "p = (v*i)\n",
    "w = sp.Integral(p,(t,2,4))\n",
    "sp.Eq(w,w.doit())"
   ]
  },
  {
   "cell_type": "code",
   "execution_count": 102,
   "id": "76bc9aeb",
   "metadata": {},
   "outputs": [
    {
     "data": {
      "text/latex": [
       "$\\displaystyle e$"
      ],
      "text/plain": [
       "E"
      ]
     },
     "execution_count": 102,
     "metadata": {},
     "output_type": "execute_result"
    }
   ],
   "source": [
    "exp(1)"
   ]
  },
  {
   "cell_type": "code",
   "execution_count": 113,
   "id": "b22ae806",
   "metadata": {},
   "outputs": [],
   "source": [
    "a = N(Out[102])"
   ]
  },
  {
   "cell_type": "code",
   "execution_count": 112,
   "id": "a829ccfa",
   "metadata": {},
   "outputs": [
    {
     "name": "stdout",
     "output_type": "stream",
     "text": [
      "Energia: w =  8.21058886806653 J\n"
     ]
    }
   ],
   "source": [
    "w = (-585/(2*a**4))+(205/(2*a**8))+(100/(a**2))\n",
    "print('Energia: w = ',w,'J')"
   ]
  },
  {
   "cell_type": "markdown",
   "id": "0f8c5324",
   "metadata": {},
   "source": [
    "C) Energia entregueao elemento entre t = 0s e t = +inf."
   ]
  },
  {
   "cell_type": "code",
   "execution_count": 116,
   "id": "31efc57a",
   "metadata": {},
   "outputs": [
    {
     "data": {
      "text/latex": [
       "$\\displaystyle \\int\\limits_{0}^{\\infty} 10 t^{2} \\left(1 - e^{- t}\\right) e^{- t}\\, dt = \\frac{35}{2}$"
      ],
      "text/plain": [
       "Eq(Integral(10*t**2*(1 - exp(-t))*exp(-t), (t, 0, oo)), 35/2)"
      ]
     },
     "execution_count": 116,
     "metadata": {},
     "output_type": "execute_result"
    }
   ],
   "source": [
    "t = sp.symbols('t')\n",
    "v = 10*t**2*sp.exp(-t)\n",
    "i = (1-sp.exp(-t))\n",
    "p = (v*i)\n",
    "w = sp.Integral(p,(t,0,sp.oo))\n",
    "sp.Eq(w,w.doit())"
   ]
  },
  {
   "cell_type": "markdown",
   "id": "8e2c17fa",
   "metadata": {},
   "source": [
    "Energia : w = 17.5 J"
   ]
  }
 ],
 "metadata": {
  "kernelspec": {
   "display_name": "Python 3",
   "language": "python",
   "name": "python3"
  },
  "language_info": {
   "codemirror_mode": {
    "name": "ipython",
    "version": 3
   },
   "file_extension": ".py",
   "mimetype": "text/x-python",
   "name": "python",
   "nbconvert_exporter": "python",
   "pygments_lexer": "ipython3",
   "version": "3.8.8"
  }
 },
 "nbformat": 4,
 "nbformat_minor": 5
}
