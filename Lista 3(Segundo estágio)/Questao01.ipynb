{
 "cells": [
  {
   "cell_type": "markdown",
   "metadata": {},
   "source": [
    "Questão 01 - Lista 3"
   ]
  },
  {
   "cell_type": "code",
   "execution_count": 54,
   "metadata": {},
   "outputs": [],
   "source": [
    "import sympy as sp\n",
    "import numpy as np\n",
    "from sympy import *\n",
    "from utils import symdisp, symplot"
   ]
  },
  {
   "cell_type": "code",
   "execution_count": 55,
   "metadata": {},
   "outputs": [],
   "source": [
    "#valor dos três ultimos digitos da matricula somado mais 1\n",
    "m = [8,1,4]\n",
    "x = m[0]+1\n",
    "y = m[1]+1\n",
    "z = m[2]+1\n"
   ]
  },
  {
   "cell_type": "code",
   "execution_count": 56,
   "metadata": {},
   "outputs": [
    {
     "data": {
      "text/latex": [
       "$\\displaystyle L_1 = 4.0\\;mH$"
      ],
      "text/plain": [
       "<IPython.core.display.Math object>"
      ]
     },
     "metadata": {},
     "output_type": "display_data"
    },
    {
     "data": {
      "text/latex": [
       "$\\displaystyle L_2 = 1.0\\;mH$"
      ],
      "text/plain": [
       "<IPython.core.display.Math object>"
      ]
     },
     "metadata": {},
     "output_type": "display_data"
    },
    {
     "data": {
      "text/latex": [
       "$\\displaystyle L_3 = 5.0\\;mH$"
      ],
      "text/plain": [
       "<IPython.core.display.Math object>"
      ]
     },
     "metadata": {},
     "output_type": "display_data"
    }
   ],
   "source": [
    "#Valores das indutâncias L1, L2 e L3\n",
    "L1 = 4*(10**-3)\n",
    "L2 = 1*(10**-3)\n",
    "L3 = 5*(10**-3)\n",
    "symdisp('L_1 = ', L1*(10**3), 'mH')\n",
    "symdisp('L_2 = ', L2*(10**3), 'mH')\n",
    "symdisp('L_3 = ', L3*(10**3), 'mH')\n"
   ]
  },
  {
   "cell_type": "code",
   "execution_count": 57,
   "metadata": {},
   "outputs": [
    {
     "data": {
      "text/latex": [
       "$\\displaystyle v_1 = - 0.5 e^{- 10 t}\\;V$"
      ],
      "text/plain": [
       "<IPython.core.display.Math object>"
      ]
     },
     "metadata": {},
     "output_type": "display_data"
    },
    {
     "data": {
      "text/latex": [
       "$\\displaystyle v_2 = - 0.02 e^{- t} \\cos{\\left(20 t \\right)}\\;V$"
      ],
      "text/plain": [
       "<IPython.core.display.Math object>"
      ]
     },
     "metadata": {},
     "output_type": "display_data"
    },
    {
     "data": {
      "text/latex": [
       "$\\displaystyle v_3 = 0.05 e^{- 5 t}\\;V$"
      ],
      "text/plain": [
       "<IPython.core.display.Math object>"
      ]
     },
     "metadata": {},
     "output_type": "display_data"
    }
   ],
   "source": [
    "#variaável simbólica\n",
    "t = sp.symbols('t', real=True)\n",
    "v1 = -0.05*x*exp(-x*t)\n",
    "v2 = -0.02*y*exp(-y*t)*cos(20*t)\n",
    "v3 = 0.01*z*exp(-z*t)\n",
    "symdisp('v_1 = ', v1, 'V')\n",
    "symdisp('v_2 = ', v2, 'V')\n",
    "symdisp('v_3 = ', v3, 'V')\n"
   ]
  },
  {
   "cell_type": "code",
   "execution_count": 58,
   "metadata": {},
   "outputs": [
    {
     "data": {
      "text/latex": [
       "$\\displaystyle v_{L1} = - 0.05 e^{- 5 t} + 0.5 e^{- 10 t}\\;V$"
      ],
      "text/plain": [
       "<IPython.core.display.Math object>"
      ]
     },
     "metadata": {},
     "output_type": "display_data"
    },
    {
     "data": {
      "text/latex": [
       "$\\displaystyle v_{L2} = - 0.02 e^{- t} \\cos{\\left(20 t \\right)} - 0.05 e^{- 5 t}\\;V$"
      ],
      "text/plain": [
       "<IPython.core.display.Math object>"
      ]
     },
     "metadata": {},
     "output_type": "display_data"
    },
    {
     "data": {
      "text/latex": [
       "$\\displaystyle v_{L3} = 0.02 e^{- t} \\cos{\\left(20 t \\right)} + 0.5 e^{- 10 t}\\;V$"
      ],
      "text/plain": [
       "<IPython.core.display.Math object>"
      ]
     },
     "metadata": {},
     "output_type": "display_data"
    }
   ],
   "source": [
    "#A partir do método da superposição, foi-se obtido as expressões para as tenssões em cada indutor\n",
    "# Tensão no indutor = Contribuição de v1 + Contribuição de v2 + Contribuição de v3\n",
    "vL1 = -v1+ 0 - v3\n",
    "vL2 = 0 + v2 - v3\n",
    "vL3 = -v1 - v2 + 0\n",
    "symdisp('v_{L1} = ', vL1, 'V')\n",
    "symdisp('v_{L2} = ', vL2, 'V')\n",
    "symdisp('v_{L3} = ', vL3, 'V')\n"
   ]
  },
  {
   "cell_type": "code",
   "execution_count": 59,
   "metadata": {},
   "outputs": [
    {
     "data": {
      "image/png": "[encoded data removed]",
      "text/plain": [
       "<Figure size 432x288 with 1 Axes>"
      ]
     },
     "execution_count": 59,
     "metadata": {},
     "output_type": "execute_result"
    }
   ],
   "source": [
    "#plotagem das tensões\n",
    "intervalo = np.arange(0,1,0.001)\n",
    "symplot(t,[vL1,vL2,vL3],intervalo,['vL1(t)','vL2(t)','vL3(t)'])"
   ]
  },
  {
   "cell_type": "code",
   "execution_count": 60,
   "metadata": {},
   "outputs": [],
   "source": [
    "#Determinando as correntes em cada indutor\n",
    "int_vL1 = sp.integrate(vL1,(t,0,t))\n",
    "int_vL2 = sp.integrate(vL2,(t,0,t))\n",
    "int_vL3 = sp.integrate(vL3,(t,0,t))\n"
   ]
  },
  {
   "cell_type": "markdown",
   "metadata": {},
   "source": [
    "Letra A"
   ]
  },
  {
   "cell_type": "code",
   "execution_count": 61,
   "metadata": {},
   "outputs": [
    {
     "name": "stdout",
     "output_type": "stream",
     "text": [
      "Letra A: Correntes nos indutores L1, L2 e L3\n"
     ]
    },
    {
     "data": {
      "text/latex": [
       "$\\displaystyle i_{L1} (t) = 10.0 + 2.5 e^{- 5 t} - 12.5 e^{- 10 t}\\;A$"
      ],
      "text/plain": [
       "<IPython.core.display.Math object>"
      ]
     },
     "metadata": {},
     "output_type": "display_data"
    },
    {
     "data": {
      "text/latex": [
       "$\\displaystyle i_{L2} (t)= -10.0498753117207 - 0.997506234413965 e^{- t} \\sin{\\left(20 t \\right)} + 0.0498753117206982 e^{- t} \\cos{\\left(20 t \\right)} + 10.0 e^{- 5 t}\\;A$"
      ],
      "text/plain": [
       "<IPython.core.display.Math object>"
      ]
     },
     "metadata": {},
     "output_type": "display_data"
    },
    {
     "data": {
      "text/latex": [
       "$\\displaystyle i_{L3} (t)= 10.0099750623441 + 0.199501246882793 e^{- t} \\sin{\\left(20 t \\right)} - 0.00997506234413965 e^{- t} \\cos{\\left(20 t \\right)} - 10.0 e^{- 10 t}\\;A$"
      ],
      "text/plain": [
       "<IPython.core.display.Math object>"
      ]
     },
     "metadata": {},
     "output_type": "display_data"
    }
   ],
   "source": [
    "print('Letra A: Correntes nos indutores L1, L2 e L3')\n",
    "iL1 = (L1**-1)*int_vL1; symdisp('i_{L1} (t) = ', iL1.simplify(), 'A')\n",
    "iL2 = (L2**-1)*int_vL2; symdisp('i_{L2} (t)= ', iL2.simplify(), 'A')\n",
    "iL3 = (L3**-1)*int_vL3; symdisp('i_{L3} (t)= ', iL3.simplify(), 'A')\n"
   ]
  },
  {
   "cell_type": "code",
   "execution_count": 62,
   "metadata": {},
   "outputs": [
    {
     "data": {
      "image/png": "[encoded data removed]",
      "text/plain": [
       "<Figure size 432x288 with 1 Axes>"
      ]
     },
     "execution_count": 62,
     "metadata": {},
     "output_type": "execute_result"
    }
   ],
   "source": [
    "#plotagem da Correntes\n",
    "intervalo = np.arange(0,2,0.01)\n",
    "symplot(t,[iL1,iL2,iL3],intervalo,['iL1(t)','iL2(t)','iL3(t)'])\n"
   ]
  },
  {
   "cell_type": "markdown",
   "metadata": {},
   "source": [
    "Letra B"
   ]
  },
  {
   "cell_type": "code",
   "execution_count": 63,
   "metadata": {},
   "outputs": [
    {
     "name": "stdout",
     "output_type": "stream",
     "text": [
      "Letra B: Potência nos indutores L1, L2 e L3\n"
     ]
    },
    {
     "data": {
      "text/latex": [
       "$\\displaystyle p_{L1} (t) = 1.0 \\left(- 0.5 e^{15 t} + 4.875 e^{10 t} + 1.875 e^{5 t} - 6.25\\right) e^{- 20 t}\\;W$"
      ],
      "text/plain": [
       "<IPython.core.display.Math object>"
      ]
     },
     "metadata": {},
     "output_type": "display_data"
    },
    {
     "data": {
      "text/latex": [
       "$\\displaystyle p_{L2} (t) = \\left(0.02 e^{4 t} \\cos{\\left(20 t \\right)} + 0.05\\right) \\left(\\left(0.997506234413965 \\sin{\\left(20 t \\right)} - 0.0498753117206982 \\cos{\\left(20 t \\right)}\\right) e^{4 t} + 10.0498753117207 e^{5 t} - 10.0\\right) e^{- 10 t}\\;W$"
      ],
      "text/plain": [
       "<IPython.core.display.Math object>"
      ]
     },
     "metadata": {},
     "output_type": "display_data"
    },
    {
     "data": {
      "text/latex": [
       "$\\displaystyle p_{L3} (t) = \\left(0.02 e^{9 t} \\cos{\\left(20 t \\right)} + 0.5\\right) \\left(\\left(0.199501246882793 \\sin{\\left(20 t \\right)} - 0.00997506234413965 \\cos{\\left(20 t \\right)}\\right) e^{9 t} + 10.0099750623441 e^{10 t} - 10.0\\right) e^{- 20 t}\\;W$"
      ],
      "text/plain": [
       "<IPython.core.display.Math object>"
      ]
     },
     "metadata": {},
     "output_type": "display_data"
    }
   ],
   "source": [
    "print('Letra B: Potência nos indutores L1, L2 e L3')\n",
    "pL1 = vL1*iL1\n",
    "pL2 = vL2*iL2\n",
    "pL3 = vL3*iL3\n",
    "symdisp('p_{L1} (t) = ', pL1.simplify(), 'W')\n",
    "symdisp('p_{L2} (t) = ', pL2.simplify(), 'W')\n",
    "symdisp('p_{L3} (t) = ', pL3.simplify(), 'W') \n"
   ]
  },
  {
   "cell_type": "code",
   "execution_count": 64,
   "metadata": {},
   "outputs": [
    {
     "data": {
      "image/png": "[encoded data removed]",
      "text/plain": [
       "<Figure size 432x288 with 1 Axes>"
      ]
     },
     "execution_count": 64,
     "metadata": {},
     "output_type": "execute_result"
    }
   ],
   "source": [
    "#plotagem da potencias\n",
    "intervalo = np.arange(0,3 ,0.001)\n",
    "symplot(t,[pL1,pL2,pL3],intervalo,['pL1(t)','pL2(t)','pL3(t)'])\n"
   ]
  },
  {
   "cell_type": "markdown",
   "metadata": {},
   "source": [
    "Letra C"
   ]
  },
  {
   "cell_type": "code",
   "execution_count": 65,
   "metadata": {},
   "outputs": [
    {
     "name": "stdout",
     "output_type": "stream",
     "text": [
      "Letra C: Potência Máxima nos indutores L1, L2 e L3\n",
      "Indutor que atinge o maior pico de potência:\n",
      "\n",
      "\tIndutor L3 atinge maior pico de potência.\n",
      "\n",
      "Máximo valor de Potência:\n"
     ]
    },
    {
     "data": {
      "text/latex": [
       "$\\displaystyle P_{LMax} = 1.322\\;W$"
      ],
      "text/plain": [
       "<IPython.core.display.Math object>"
      ]
     },
     "metadata": {},
     "output_type": "display_data"
    },
    {
     "name": "stdout",
     "output_type": "stream",
     "text": [
      "Instante em que a Potência é máxima:\n"
     ]
    },
    {
     "data": {
      "text/latex": [
       "$\\displaystyle t_{LMax} = 0.063\\;s$"
      ],
      "text/plain": [
       "<IPython.core.display.Math object>"
      ]
     },
     "metadata": {},
     "output_type": "display_data"
    }
   ],
   "source": [
    "print('Letra C: Potência Máxima nos indutores L1, L2 e L3')\n",
    "eqpL1 = sp.Eq(sp.diff(pL1,t),0)\n",
    "eqpL2 = sp.Eq(sp.diff(pL2,t),0)\n",
    "eqpL3 = sp.Eq(sp.diff(pL3,t),0)\n",
    "# encontra numericamente o valor de t para o qual dp(t)/dt = 0\n",
    "tL1max = sp.nsolve(eqpL1,t,(0,0.2), solver = 'bisect')\n",
    "tL2max = sp.nsolve(eqpL2,t,(0.2,0.4), solver = 'bisect')\n",
    "tL3max = sp.nsolve(eqpL3,t,(0,0.2), solver = 'bisect')\n",
    "pL1max = pL1.evalf(subs={t:tL1max})\n",
    "pL2max = pL2.evalf(subs={t:tL2max})\n",
    "pL3max = pL3.evalf(subs={t:tL3max})\n",
    "\n",
    "pmax =[pL1max,pL2max,pL3max]\n",
    "print('Indutor que atinge o maior pico de potência:')\n",
    "\n",
    "if (pL1max > pL2max) & (pL1max > pL3max):\n",
    "    print('\\n\\tIndutor L1 atinge maior pico de potência.\\n')\n",
    "    print('Máximo valor de Potência:')\n",
    "    symdisp('P_{LMax} = ', round(max(pmax),3), 'W')\n",
    "    print('Instante em que a Potência é máxima:')\n",
    "    symdisp('t_{LMax} = ', round(tL1max,3), 's')\n",
    "\n",
    "elif (pL2max > pL1max) & (pL2max > pL3max):\n",
    "    print('\\n\\tIndutor L2 atinge maior pico de potência.\\n')\n",
    "    print('Máximo valor de Potência:')\n",
    "    symdisp('P_{LMax} = ', round(max(pmax),3), 'W')\n",
    "    print('Instante em que a Potência é máxima:')\n",
    "    symdisp('t_{LMax} = ', round(tL2max,3), 's')\n",
    "\n",
    "elif (pL3max > pL1max) & (pL3max > pL2max):\n",
    "    print('\\n\\tIndutor L3 atinge maior pico de potência.\\n')\n",
    "    print('Máximo valor de Potência:')\n",
    "    symdisp('P_{LMax} = ', round(max(pmax),3), 'W')\n",
    "    print('Instante em que a Potência é máxima:')\n",
    "    symdisp('t_{LMax} = ', round(tL3max,3), 's')\n"
   ]
  },
  {
   "cell_type": "markdown",
   "metadata": {},
   "source": [
    "Letra D"
   ]
  },
  {
   "cell_type": "code",
   "execution_count": 70,
   "metadata": {},
   "outputs": [
    {
     "name": "stdout",
     "output_type": "stream",
     "text": [
      "Letra D: Energia em cada Indutor\n",
      "Energia acumulada no Indutor L1\n"
     ]
    },
    {
     "data": {
      "text/latex": [
       "$\\displaystyle W_{L1} = 200.0\\;mJ$"
      ],
      "text/plain": [
       "<IPython.core.display.Math object>"
      ]
     },
     "metadata": {},
     "output_type": "display_data"
    },
    {
     "name": "stdout",
     "output_type": "stream",
     "text": [
      "Energia acumulada no Indutor L2\n"
     ]
    }
   ],
   "source": [
    "print('Letra D: Energia em cada Indutor')\n",
    "#w = (1/2)*L*(i**2)\n",
    "print('Energia acumulada no Indutor L1')\n",
    "wL1 = sp.integrate(pL1,(t,0,oo))\n",
    "symdisp('W_{L1} = ', round(wL1*(10**3),3), 'mJ')\n",
    "\n",
    "print('Energia acumulada no Indutor L2')\n",
    "wL2 = sp.integrate(pL2,(t,0,t))\n",
    "#symdisp('W_{L2} = ', round(wL2*(10**3),3), 'mJ')\n",
    "\n",
    "print('Energia acumulada no Indutor L3')\n",
    "wL3 = sp.integrate(pL3,(t,0,100))\n",
    "symdisp('W_{L3} = ', round(wL3*(10**3),3), 'mJ')\n"
   ]
  },
  {
   "cell_type": "code",
   "execution_count": null,
   "metadata": {},
   "outputs": [],
   "source": []
  }
 ],
 "metadata": {
  "interpreter": {
   "hash": "c447c3cb8524a32dffcb5b7dc5949d51da75a9fa8c9e67fdc0a3ad2d0514cf36"
  },
  "kernelspec": {
   "display_name": "Python 3.10.0 64-bit",
   "language": "python",
   "name": "python3"
  },
  "language_info": {
   "codemirror_mode": {
    "name": "ipython",
    "version": 3
   },
   "file_extension": ".py",
   "mimetype": "text/x-python",
   "name": "python",
   "nbconvert_exporter": "python",
   "pygments_lexer": "ipython3",
   "version": "3.10.0"
  },
  "orig_nbformat": 4
 },
 "nbformat": 4,
 "nbformat_minor": 2
}
