{
 "cells": [
  {
   "cell_type": "markdown",
   "metadata": {},
   "source": [
    "# Reposição 2 - 2020.1 "
   ]
  },
  {
   "cell_type": "code",
   "execution_count": 83,
   "metadata": {},
   "outputs": [],
   "source": [
    "import sympy as sp\n",
    "import numpy as np\n",
    "from sympy import *\n",
    "from utils import symdisp, symplot, round_expr"
   ]
  },
  {
   "cell_type": "code",
   "execution_count": 84,
   "metadata": {},
   "outputs": [
    {
     "data": {
      "text/plain": [
       "2"
      ]
     },
     "metadata": {},
     "output_type": "display_data"
    },
    {
     "data": {
      "text/plain": [
       "5"
      ]
     },
     "metadata": {},
     "output_type": "display_data"
    }
   ],
   "source": [
    "# Matricula 119210814\n",
    "m =[1,4]\n",
    "r1 = m[0]+1\n",
    "r2 = m[1]+1 \n",
    "display(r1,r2)"
   ]
  },
  {
   "cell_type": "markdown",
   "metadata": {},
   "source": [
    "# Questão 1"
   ]
  },
  {
   "cell_type": "markdown",
   "metadata": {},
   "source": [
    "Em regime estacionário o indutor funciona cmo curto circuitoe para este caso a tensão no indutor será a mesma no resistor $3R_2$."
   ]
  },
  {
   "cell_type": "code",
   "execution_count": 85,
   "metadata": {},
   "outputs": [
    {
     "data": {
      "text/latex": [
       "$\\displaystyle i_L(0) = 0.286\\;A$"
      ],
      "text/plain": [
       "<IPython.core.display.Math object>"
      ]
     },
     "metadata": {},
     "output_type": "display_data"
    },
    {
     "data": {
      "text/latex": [
       "$\\displaystyle v_L(0) = 0\\;V$"
      ],
      "text/plain": [
       "<IPython.core.display.Math object>"
      ]
     },
     "metadata": {},
     "output_type": "display_data"
    }
   ],
   "source": [
    "iL0 = r1/(r1+r2); symdisp('i_L(0) = ',round(iL0,3),'A')\n",
    "vL0 = 0; symdisp('v_L(0) = ', round(vL0,2),'V')"
   ]
  },
  {
   "cell_type": "markdown",
   "metadata": {},
   "source": [
    "Transformação DELTA - Y:"
   ]
  },
  {
   "cell_type": "code",
   "execution_count": 86,
   "metadata": {},
   "outputs": [
    {
     "data": {
      "text/latex": [
       "$\\displaystyle R_a = 1.364\\;Ω$"
      ],
      "text/plain": [
       "<IPython.core.display.Math object>"
      ]
     },
     "metadata": {},
     "output_type": "display_data"
    },
    {
     "data": {
      "text/latex": [
       "$\\displaystyle R_b = 0.455\\;Ω$"
      ],
      "text/plain": [
       "<IPython.core.display.Math object>"
      ]
     },
     "metadata": {},
     "output_type": "display_data"
    },
    {
     "data": {
      "text/latex": [
       "$\\displaystyle R_c = 3.409\\;Ω$"
      ],
      "text/plain": [
       "<IPython.core.display.Math object>"
      ]
     },
     "metadata": {},
     "output_type": "display_data"
    },
    {
     "data": {
      "text/latex": [
       "$\\displaystyle R_{Th} = 4.453\\;Ω$"
      ],
      "text/plain": [
       "<IPython.core.display.Math object>"
      ]
     },
     "metadata": {},
     "output_type": "display_data"
    }
   ],
   "source": [
    "Ra = (3*r2 *r1)/(r1+3*r2 +r2);symdisp('R_a = ',round(Ra,3),'Ω')\n",
    "Rb = (r1*r2)/(r1+3*r2 +r2);symdisp('R_b = ',round(Rb,3),'Ω')\n",
    "Rc = (r2*3*r2)/(r1+3*r2 +r2);symdisp('R_c = ',round(Rc,3),'Ω')\n",
    "Rth = Rc + (Ra*(Rb+2*r1))/(Ra+Rb+ 2*r1); symdisp('R_{Th} = ',round(Rth,3),'Ω')"
   ]
  },
  {
   "cell_type": "code",
   "execution_count": 87,
   "metadata": {},
   "outputs": [
    {
     "data": {
      "text/latex": [
       "$\\displaystyle R_{eq}=2.222\\;Ω$"
      ],
      "text/plain": [
       "<IPython.core.display.Math object>"
      ]
     },
     "metadata": {},
     "output_type": "display_data"
    },
    {
     "data": {
      "text/latex": [
       "$\\displaystyle i_{cc}=473.684\\;mA$"
      ],
      "text/plain": [
       "<IPython.core.display.Math object>"
      ]
     },
     "metadata": {},
     "output_type": "display_data"
    },
    {
     "data": {
      "text/latex": [
       "$\\displaystyle v_{Th}=1.053\\;V$"
      ],
      "text/plain": [
       "<IPython.core.display.Math object>"
      ]
     },
     "metadata": {},
     "output_type": "display_data"
    },
    {
     "data": {
      "text/latex": [
       "$\\displaystyle i_1 = 210.526\\;mA$"
      ],
      "text/plain": [
       "<IPython.core.display.Math object>"
      ]
     },
     "metadata": {},
     "output_type": "display_data"
    },
    {
     "data": {
      "text/latex": [
       "$\\displaystyle i_L(t) = 0.211 + 0.075 e^{- 111.111 t}\\;A$"
      ],
      "text/plain": [
       "<IPython.core.display.Math object>"
      ]
     },
     "metadata": {},
     "output_type": "display_data"
    },
    {
     "data": {
      "image/png": "[encoded data removed]",
      "text/plain": [
       "<Figure size 432x288 with 1 Axes>"
      ]
     },
     "execution_count": 87,
     "metadata": {},
     "output_type": "execute_result"
    }
   ],
   "source": [
    "Req = (r2*2*r1)/(r2+ 2*r1);symdisp('R_{eq}=',round(Req,3),'Ω')\n",
    "\n",
    "# Corrente de Curto circuito\n",
    "icc = r1/(r1+Req); symdisp('i_{cc}=',round(icc*10**3,3),'mA')\n",
    "\n",
    "#Tensão Vth\n",
    "vth = Req*icc;symdisp('v_{Th}=',round(vth,3),'V')\n",
    "\n",
    "i1 = (2*r1 / (r2+ 2*r1))*icc; symdisp('i_1 = ',round(i1*10**3,3),'mA')\n",
    "t = sp.symbols('t')\n",
    "L = 20*10**-3\n",
    "#constante de tempo\n",
    "τ = L/Req\n",
    "\n",
    "iLt = (iL0-i1)*sp.exp(-t/τ) + i1; symdisp('i_L(t) = ',round_expr(iLt,3),'A')\n",
    "iLt_plot = sp.Piecewise((iL0,t<0),(round_expr(iLt,3),t>=0))\n",
    "\n",
    "intervalo = np.linspace(-0.1,0.2, 1000)\n",
    "symplot(t,iLt_plot,intervalo,'$i_L(t)$[A]')\n"
   ]
  },
  {
   "cell_type": "markdown",
   "metadata": {},
   "source": [
    "# Questão 2"
   ]
  },
  {
   "cell_type": "code",
   "execution_count": 88,
   "metadata": {},
   "outputs": [
    {
     "data": {
      "text/latex": [
       "$\\displaystyle [R_a,R_b,R_c]=\\left[ 40, \\  200, \\  50\\right]\\;Ω$"
      ],
      "text/plain": [
       "<IPython.core.display.Math object>"
      ]
     },
     "metadata": {},
     "output_type": "display_data"
    },
    {
     "data": {
      "text/latex": [
       "$\\displaystyle v =10\\;V$"
      ],
      "text/plain": [
       "<IPython.core.display.Math object>"
      ]
     },
     "metadata": {},
     "output_type": "display_data"
    }
   ],
   "source": [
    "ra = 20*r1;rb =40*r2; rc =10*r2\n",
    "symdisp('[R_a,R_b,R_c]=',[ra ,rb, rc],'Ω')\n",
    "vf =10;symdisp('v =',vf,'V')"
   ]
  },
  {
   "cell_type": "markdown",
   "metadata": {},
   "source": [
    "# a)"
   ]
  },
  {
   "cell_type": "code",
   "execution_count": 89,
   "metadata": {},
   "outputs": [
    {
     "data": {
      "text/latex": [
       "$\\displaystyle R_{eq} = 41.379\\;Ω$"
      ],
      "text/plain": [
       "<IPython.core.display.Math object>"
      ]
     },
     "metadata": {},
     "output_type": "display_data"
    },
    {
     "data": {
      "text/latex": [
       "$\\displaystyle V_s = 12.069\\;V$"
      ],
      "text/plain": [
       "<IPython.core.display.Math object>"
      ]
     },
     "metadata": {},
     "output_type": "display_data"
    },
    {
     "data": {
      "text/latex": [
       "$\\displaystyle i_L(0^+) =291.667\\;mA$"
      ],
      "text/plain": [
       "<IPython.core.display.Math object>"
      ]
     },
     "metadata": {},
     "output_type": "display_data"
    },
    {
     "data": {
      "text/latex": [
       "$\\displaystyle v_C(0^+) = -8.333\\;V$"
      ],
      "text/plain": [
       "<IPython.core.display.Math object>"
      ]
     },
     "metadata": {},
     "output_type": "display_data"
    }
   ],
   "source": [
    "Req = ((ra+rb)*rc)/((ra+rb)+rc);symdisp('R_{eq} = ',round(Req,3),'Ω')\n",
    "vs  = ((vf/(ra+rb))+0.25)*Req ; symdisp('V_s = ',round(vs,3),'V')\n",
    "iL0 = vs/Req; symdisp('i_L(0^+) =',round(iL0*10**3,3),'mA')\n",
    "vC0 = -(vf*rb)/(ra+rb);symdisp('v_C(0^+) = ',round(vC0,3),'V')\n"
   ]
  },
  {
   "cell_type": "markdown",
   "metadata": {},
   "source": [
    "# Itens: b) e c) RLC - Resposta ao degrau paralelo"
   ]
  },
  {
   "cell_type": "code",
   "execution_count": 105,
   "metadata": {},
   "outputs": [
    {
     "name": "stdout",
     "output_type": "stream",
     "text": [
      "Fator de Amortecimento\n"
     ]
    },
    {
     "data": {
      "text/latex": [
       "$\\displaystyle α = 1250.0\\;\\frac{rad}{s}$"
      ],
      "text/plain": [
       "<IPython.core.display.Math object>"
      ]
     },
     "metadata": {},
     "output_type": "display_data"
    },
    {
     "data": {
      "text/latex": [
       "$\\displaystyle α^2 = 1562500.0\\;\\frac{rad}{s}$"
      ],
      "text/plain": [
       "<IPython.core.display.Math object>"
      ]
     },
     "metadata": {},
     "output_type": "display_data"
    },
    {
     "name": "stdout",
     "output_type": "stream",
     "text": [
      "Frequência de Ressonância\n"
     ]
    },
    {
     "data": {
      "text/latex": [
       "$\\displaystyle ω_o = 1000.0\\;\\frac{rad}{s}$"
      ],
      "text/plain": [
       "<IPython.core.display.Math object>"
      ]
     },
     "metadata": {},
     "output_type": "display_data"
    },
    {
     "data": {
      "text/latex": [
       "$\\displaystyle ω_o^2 = 1000000.0\\;\\frac{rad}{s}$"
      ],
      "text/plain": [
       "<IPython.core.display.Math object>"
      ]
     },
     "metadata": {},
     "output_type": "display_data"
    },
    {
     "name": "stdout",
     "output_type": "stream",
     "text": [
      "RESPOSTA SUPERAMORTECIDA\n",
      "\n",
      "Forma geral da solução:\n"
     ]
    },
    {
     "data": {
      "text/latex": [
       "$\\displaystyle i_L(t) = A_{1} e^{- 500.0 t} + A_{2} e^{- 2000.0 t}\\;A$"
      ],
      "text/plain": [
       "<IPython.core.display.Math object>"
      ]
     },
     "metadata": {},
     "output_type": "display_data"
    },
    {
     "name": "stdout",
     "output_type": "stream",
     "text": [
      "Sistema de equações:\n"
     ]
    },
    {
     "data": {
      "text/latex": [
       "$\\displaystyle (I): A_{1} + A_{2} + 0.25 = 0.29\\; $"
      ],
      "text/plain": [
       "<IPython.core.display.Math object>"
      ]
     },
     "metadata": {},
     "output_type": "display_data"
    },
    {
     "data": {
      "text/latex": [
       "$\\displaystyle (II): - 500.0 A_{1} - 2000.0 A_{2} = -83.33\\; $"
      ],
      "text/plain": [
       "<IPython.core.display.Math object>"
      ]
     },
     "metadata": {},
     "output_type": "display_data"
    },
    {
     "name": "stdout",
     "output_type": "stream",
     "text": [
      "Solução do sistema:\n"
     ]
    },
    {
     "data": {
      "text/latex": [
       "$\\displaystyle A_1 =0.0\\; A$"
      ],
      "text/plain": [
       "<IPython.core.display.Math object>"
      ]
     },
     "metadata": {},
     "output_type": "display_data"
    },
    {
     "data": {
      "text/latex": [
       "$\\displaystyle A_2 =0.041667\\; A$"
      ],
      "text/plain": [
       "<IPython.core.display.Math object>"
      ]
     },
     "metadata": {},
     "output_type": "display_data"
    },
    {
     "data": {
      "text/latex": [
       "$\\displaystyle i_L(t) = 0.25 + 0.042 e^{- 2000.0 t}\\;A$"
      ],
      "text/plain": [
       "<IPython.core.display.Math object>"
      ]
     },
     "metadata": {},
     "output_type": "display_data"
    },
    {
     "data": {
      "text/latex": [
       "$\\displaystyle v_C(t) = - 8.333 e^{- 2000.0 t}\\;V$"
      ],
      "text/plain": [
       "<IPython.core.display.Math object>"
      ]
     },
     "metadata": {},
     "output_type": "display_data"
    },
    {
     "data": {
      "image/png": "[encoded data removed]",
      "text/plain": [
       "<Figure size 432x288 with 1 Axes>"
      ]
     },
     "execution_count": 105,
     "metadata": {},
     "output_type": "execute_result"
    }
   ],
   "source": [
    "t0 = 0\n",
    "R = ra\n",
    "vo = vC0\n",
    "i0 = iL0\n",
    "c = 10*10**-6\n",
    "L = 100*10**-3\n",
    "Is = 0.25\n",
    "#Fator de amortecimento\n",
    "α = 1/(2*R*c);\n",
    "print('Fator de Amortecimento')\n",
    "symdisp('α = ',round(α,3),'\\\\frac{rad}{s}')\n",
    "symdisp('α^2 = ',round(α**2,3),'\\\\frac{rad}{s}')\n",
    "\n",
    "print('Frequência de Ressonância')\n",
    "ω = 1/sp.sqrt(L*c)\n",
    "symdisp('ω_o = ',round(ω,3),'\\\\frac{rad}{s}')\n",
    "symdisp('ω_o^2 = ',round(ω**2,3),'\\\\frac{rad}{s}')\n",
    "\n",
    "\n",
    "if α**2 > ω**2:\n",
    "    print('RESPOSTA SUPERAMORTECIDA')############ SUPERAMORTECIDO ################ \n",
    "    s1 = -α + sp.sqrt(α**2 - ω**2)\n",
    "    s2 = -α - sp.sqrt(α**2 - ω**2)\n",
    "    A1, A2 = sp.symbols('A1 ,A2')\n",
    "    # expressão geral da resposta superamortecida\n",
    "    iL = A1*sp.exp(s1*(t-t0)) + A2*sp.exp(s2*(t-t0))\n",
    "    print('\\nForma geral da solução:')\n",
    "    symdisp('i_L(t) = ', round_expr(iL,3), 'A')\n",
    "    # define os sistema de equações com as condições iniciais\n",
    "    eq1 = sp.Eq(   A1 +    A2 + Is, i0)             \n",
    "    eq2 = sp.Eq(s1*A1 + s2*A2,        vo/L)  \n",
    "\n",
    "    print('Sistema de equações:')\n",
    "    symdisp('(I): ', round_expr(eq1, 2),' ')\n",
    "    symdisp('(II): ', round_expr(eq2, 2),' ')\n",
    "\n",
    "    # resolve o sistema\n",
    "    soluc = sp.solve((eq1, eq2), dict=True)\n",
    "    A1 = np.array([sol[A1] for sol in soluc])\n",
    "    A2 = np.array([sol[A2] for sol in soluc])\n",
    "\n",
    "    A1 = A1[0]\n",
    "    A2 = A2[0]\n",
    "\n",
    "    print('Solução do sistema:')\n",
    "    symdisp('A_1 =', round(A1,6), ' A')\n",
    "    symdisp('A_2 =', round(A2,6), ' A') \n",
    "\n",
    "    iL = A1*sp.exp(s1*(t-t0)) + A2*sp.exp(s2*(t-t0)) + Is\n",
    "    symdisp('i_L(t) = ', round_expr(iL,3), 'A')\n",
    "\n",
    "elif α**2 < ω**2:\n",
    "    print('RESPOSTA SUBAMORTECIDA')############### SUBAMORTECIDO ###################\n",
    "    ωd = sp.sqrt(ω**2 - α**2 )\n",
    "    B1, B2 = sp.symbols('B1 ,B2')\n",
    "    B1 = i0\n",
    "    B2 = ((1/L)*(-R*i0 - vo)+(α*B1))/ωd\n",
    "    iL = sp.exp(-α*t)*(B1*sp.cos(ωd*t) + B2*sp.sin(ωd*t))\n",
    "    print('\\nForma geral da solução:')\n",
    "    symdisp('i_L(t) = ', round_expr(iL.simplify(),3), 'A')\n",
    "\n",
    "elif α**2 == ω**2:\n",
    "    print('RESPOSTA CRITICAMENTE AMORTECIDA')############### CRITICAMENTE AMORTECIDO ################\n",
    "    D1, D2 = sp.symbols('D1 ,D2')\n",
    "    D2 = i0\n",
    "    D1 = ((1/L)*(-R*i0 - vo)+(α*D2))/ωd\n",
    "    iL = sp.exp(-α*t)*(D1*t + B2)\n",
    "    print('\\nForma geral da solução:')\n",
    "    symdisp('i_L(t) = ', round_expr(iL.simplify(),3), 'A')\n",
    "\n",
    "#tensão no capacitor 0<= t <= 1\n",
    "vct = L*sp.diff(iL,t)\n",
    "symdisp('v_C(t) = ', round_expr(vct.simplify(),3), 'V')\n",
    "\n",
    "iL_plot  = sp.Piecewise((iL0,t<=0),(round_expr(iL.simplify(),3), t<1))\n",
    "vct_plot = sp.Piecewise((vo,t<=0),(round_expr(vct.simplify(),3), t<1))\n",
    "\n",
    "intervalo = np.linspace(-0.002,0.004, 1000)\n",
    "symplot(t,[iL_plot,vct_plot],intervalo,['$i_L(t)$[A]','$v_C(t)$[V]'])"
   ]
  },
  {
   "cell_type": "markdown",
   "metadata": {},
   "source": [
    "# d)"
   ]
  },
  {
   "cell_type": "code",
   "execution_count": 122,
   "metadata": {},
   "outputs": [
    {
     "name": "stdout",
     "output_type": "stream",
     "text": [
      "Fator de Amortecimento\n"
     ]
    },
    {
     "data": {
      "text/latex": [
       "$\\displaystyle α = 1000.0\\;\\frac{rad}{s}$"
      ],
      "text/plain": [
       "<IPython.core.display.Math object>"
      ]
     },
     "metadata": {},
     "output_type": "display_data"
    },
    {
     "data": {
      "text/latex": [
       "$\\displaystyle α^2 = 1000000.0\\;\\frac{rad}{s}$"
      ],
      "text/plain": [
       "<IPython.core.display.Math object>"
      ]
     },
     "metadata": {},
     "output_type": "display_data"
    },
    {
     "name": "stdout",
     "output_type": "stream",
     "text": [
      "Frequência de Ressonância\n"
     ]
    },
    {
     "data": {
      "text/latex": [
       "$\\displaystyle ω_o = 1000.0\\;\\frac{rad}{s}$"
      ],
      "text/plain": [
       "<IPython.core.display.Math object>"
      ]
     },
     "metadata": {},
     "output_type": "display_data"
    },
    {
     "data": {
      "text/latex": [
       "$\\displaystyle ω_o^2 = 1000000.0\\;\\frac{rad}{s}$"
      ],
      "text/plain": [
       "<IPython.core.display.Math object>"
      ]
     },
     "metadata": {},
     "output_type": "display_data"
    },
    {
     "name": "stdout",
     "output_type": "stream",
     "text": [
      "RESPOSTA CRITICAMENTE AMORTECIDA\n",
      "\n",
      "Forma geral da solução:\n"
     ]
    },
    {
     "data": {
      "text/latex": [
       "$\\displaystyle i_L(t) = - \\left(0.25 t + 0.033\\right) e^{- 1000.0 t}\\;A$"
      ],
      "text/plain": [
       "<IPython.core.display.Math object>"
      ]
     },
     "metadata": {},
     "output_type": "display_data"
    },
    {
     "data": {
      "text/latex": [
       "$\\displaystyle v_c(t) = \\left(- 25.0 t + 3.355 e^{1000.0 t} - 3.355\\right) e^{- 1000.0 t}\\;V$"
      ],
      "text/plain": [
       "<IPython.core.display.Math object>"
      ]
     },
     "metadata": {},
     "output_type": "display_data"
    },
    {
     "data": {
      "image/png": "[encoded data removed]",
      "text/plain": [
       "<Figure size 432x288 with 1 Axes>"
      ]
     },
     "execution_count": 122,
     "metadata": {},
     "output_type": "execute_result"
    }
   ],
   "source": [
    "t0 = 1\n",
    "R = rb\n",
    "vo = 0\n",
    "i0 = Is\n",
    "#Fator de amortecimento\n",
    "α = R/(2*L);\n",
    "print('Fator de Amortecimento')\n",
    "symdisp('α = ',round(α,3),'\\\\frac{rad}{s}')\n",
    "symdisp('α^2 = ',round(α**2,3),'\\\\frac{rad}{s}')\n",
    "\n",
    "print('Frequência de Ressonância')\n",
    "ω = 1/sp.sqrt(L*c)\n",
    "symdisp('ω_o = ',round(ω,3),'\\\\frac{rad}{s}')\n",
    "symdisp('ω_o^2 = ',round(ω**2,3),'\\\\frac{rad}{s}')\n",
    "\n",
    "\n",
    "if α**2 > ω**2:\n",
    "    print('RESPOSTA SUPERAMORTECIDA')\n",
    "    s1 = -α + sp.sqrt(α**2 - ω**2)\n",
    "    s2 = -α - sp.sqrt(α**2 - ω**2)\n",
    "    A1, A2 = sp.symbols('A1 ,A2')\n",
    "    # expressão geral da resposta superamortecida\n",
    "    iL = A1*sp.exp(s1*(t-t0)) + A2*sp.exp(s2*(t-t0))\n",
    "    print('\\nForma geral da solução:')\n",
    "    symdisp('i_L(t) = ', round_expr(iL,3), 'A')\n",
    "    # define os sistema de equações com as condições iniciais\n",
    "    eq1 = sp.Eq(   A1 +    A2 + Is, i0)             \n",
    "    eq2 = sp.Eq(s1*A1 + s2*A2,        vo/L)  \n",
    "\n",
    "    print('Sistema de equações:')\n",
    "    symdisp('(I): ', round_expr(eq1, 2),' ')\n",
    "    symdisp('(II): ', round_expr(eq2, 2),' ')\n",
    "\n",
    "    # resolve o sistema\n",
    "    soluc = sp.solve((eq1, eq2), dict=True)\n",
    "    A1 = np.array([sol[A1] for sol in soluc])\n",
    "    A2 = np.array([sol[A2] for sol in soluc])\n",
    "\n",
    "    A1 = A1[0]\n",
    "    A2 = A2[0]\n",
    "\n",
    "    print('Solução do sistema:')\n",
    "    symdisp('A_1 =', round(A1,6), ' A')\n",
    "    symdisp('A_2 =', round(A2,6), ' A') \n",
    "\n",
    "    iL = A1*sp.exp(s1*(t-t0)) + A2*sp.exp(s2*(t-t0)) + Is\n",
    "    symdisp('i_L(t) = ', round_expr(iL,3), 'A')\n",
    "\n",
    "\n",
    "elif α**2 < ω**2:\n",
    "    print('RESPOSTA SUBAMORTECIDA')\n",
    "    ωd = sp.sqrt(ω**2 - α**2 )\n",
    "    B1, B2 = sp.symbols('B1 ,B2')\n",
    "    B1 = i0\n",
    "    B2 = ((1/L)*(-R*i0 - vo)+(α*B1))/ωd\n",
    "    iL = sp.exp(-α*t)*(B1*sp.cos(ωd*t) + B2*sp.sin(ωd*t))\n",
    "    print('\\nForma geral da solução:')\n",
    "    symdisp('i_L(t) = ', round_expr(iL.simplify(),3), 'A')\n",
    "\n",
    "elif α**2 == ω**2:\n",
    "    print('RESPOSTA CRITICAMENTE AMORTECIDA')\n",
    "    D1, D2 = sp.symbols('D1 ,D2')\n",
    "    D2 = i0\n",
    "    D1 = ((1/L)*(-R*i0 - vo)+(α*D2))/ωd\n",
    "    iL = sp.exp(-α*t)*(D1*t + B2)\n",
    "    print('\\nForma geral da solução:')\n",
    "    symdisp('i_L(t) = ', round_expr(iL.simplify(),3), 'A')\n",
    "\n",
    "#tensão no capacitor 0<= t <= 1\n",
    "vct = -(1/c)*sp.integrate(iL,(t,0,t))+vo\n",
    "symdisp('v_c(t) = ', round_expr(vct.simplify(),3), 'V')\n",
    "\n",
    "iL_plot  = sp.Piecewise((i0,t<0),(round_expr(iL.simplify(),3), t>=0))\n",
    "vct_plot = sp.Piecewise((vo,t<0),(round_expr(vct.simplify(),3), t>=0))\n",
    "\n",
    "intervalo = np.linspace(-0.001,0.005, 1000)\n",
    "symplot(t,[iL_plot,vct_plot],intervalo,['$i_L(t)$[A]','$v_C(t)$[V]'])\n"
   ]
  }
 ],
 "metadata": {
  "interpreter": {
   "hash": "c447c3cb8524a32dffcb5b7dc5949d51da75a9fa8c9e67fdc0a3ad2d0514cf36"
  },
  "kernelspec": {
   "display_name": "Python 3.10.0 64-bit",
   "language": "python",
   "name": "python3"
  },
  "language_info": {
   "codemirror_mode": {
    "name": "ipython",
    "version": 3
   },
   "file_extension": ".py",
   "mimetype": "text/x-python",
   "name": "python",
   "nbconvert_exporter": "python",
   "pygments_lexer": "ipython3",
   "version": "3.10.0"
  },
  "orig_nbformat": 4
 },
 "nbformat": 4,
 "nbformat_minor": 2
}
